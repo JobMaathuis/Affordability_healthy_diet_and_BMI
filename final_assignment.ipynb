{
 "cells": [
  {
   "cell_type": "code",
   "execution_count": 188,
   "metadata": {},
   "outputs": [
    {
     "data": {
      "text/html": [
       "<div class=\"bk-root\">\n",
       "        <a href=\"https://bokeh.org\" target=\"_blank\" class=\"bk-logo bk-logo-small bk-logo-notebook\"></a>\n",
       "        <span id=\"5621\">Loading BokehJS ...</span>\n",
       "    </div>\n"
      ]
     },
     "metadata": {},
     "output_type": "display_data"
    },
    {
     "data": {
      "application/javascript": "(function(root) {\n  function now() {\n    return new Date();\n  }\n\n  const force = true;\n\n  if (typeof root._bokeh_onload_callbacks === \"undefined\" || force === true) {\n    root._bokeh_onload_callbacks = [];\n    root._bokeh_is_loading = undefined;\n  }\n\nconst JS_MIME_TYPE = 'application/javascript';\n  const HTML_MIME_TYPE = 'text/html';\n  const EXEC_MIME_TYPE = 'application/vnd.bokehjs_exec.v0+json';\n  const CLASS_NAME = 'output_bokeh rendered_html';\n\n  /**\n   * Render data to the DOM node\n   */\n  function render(props, node) {\n    const script = document.createElement(\"script\");\n    node.appendChild(script);\n  }\n\n  /**\n   * Handle when an output is cleared or removed\n   */\n  function handleClearOutput(event, handle) {\n    const cell = handle.cell;\n\n    const id = cell.output_area._bokeh_element_id;\n    const server_id = cell.output_area._bokeh_server_id;\n    // Clean up Bokeh references\n    if (id != null && id in Bokeh.index) {\n      Bokeh.index[id].model.document.clear();\n      delete Bokeh.index[id];\n    }\n\n    if (server_id !== undefined) {\n      // Clean up Bokeh references\n      const cmd_clean = \"from bokeh.io.state import curstate; print(curstate().uuid_to_server['\" + server_id + \"'].get_sessions()[0].document.roots[0]._id)\";\n      cell.notebook.kernel.execute(cmd_clean, {\n        iopub: {\n          output: function(msg) {\n            const id = msg.content.text.trim();\n            if (id in Bokeh.index) {\n              Bokeh.index[id].model.document.clear();\n              delete Bokeh.index[id];\n            }\n          }\n        }\n      });\n      // Destroy server and session\n      const cmd_destroy = \"import bokeh.io.notebook as ion; ion.destroy_server('\" + server_id + \"')\";\n      cell.notebook.kernel.execute(cmd_destroy);\n    }\n  }\n\n  /**\n   * Handle when a new output is added\n   */\n  function handleAddOutput(event, handle) {\n    const output_area = handle.output_area;\n    const output = handle.output;\n\n    // limit handleAddOutput to display_data with EXEC_MIME_TYPE content only\n    if ((output.output_type != \"display_data\") || (!Object.prototype.hasOwnProperty.call(output.data, EXEC_MIME_TYPE))) {\n      return\n    }\n\n    const toinsert = output_area.element.find(\".\" + CLASS_NAME.split(' ')[0]);\n\n    if (output.metadata[EXEC_MIME_TYPE][\"id\"] !== undefined) {\n      toinsert[toinsert.length - 1].firstChild.textContent = output.data[JS_MIME_TYPE];\n      // store reference to embed id on output_area\n      output_area._bokeh_element_id = output.metadata[EXEC_MIME_TYPE][\"id\"];\n    }\n    if (output.metadata[EXEC_MIME_TYPE][\"server_id\"] !== undefined) {\n      const bk_div = document.createElement(\"div\");\n      bk_div.innerHTML = output.data[HTML_MIME_TYPE];\n      const script_attrs = bk_div.children[0].attributes;\n      for (let i = 0; i < script_attrs.length; i++) {\n        toinsert[toinsert.length - 1].firstChild.setAttribute(script_attrs[i].name, script_attrs[i].value);\n        toinsert[toinsert.length - 1].firstChild.textContent = bk_div.children[0].textContent\n      }\n      // store reference to server id on output_area\n      output_area._bokeh_server_id = output.metadata[EXEC_MIME_TYPE][\"server_id\"];\n    }\n  }\n\n  function register_renderer(events, OutputArea) {\n\n    function append_mime(data, metadata, element) {\n      // create a DOM node to render to\n      const toinsert = this.create_output_subarea(\n        metadata,\n        CLASS_NAME,\n        EXEC_MIME_TYPE\n      );\n      this.keyboard_manager.register_events(toinsert);\n      // Render to node\n      const props = {data: data, metadata: metadata[EXEC_MIME_TYPE]};\n      render(props, toinsert[toinsert.length - 1]);\n      element.append(toinsert);\n      return toinsert\n    }\n\n    /* Handle when an output is cleared or removed */\n    events.on('clear_output.CodeCell', handleClearOutput);\n    events.on('delete.Cell', handleClearOutput);\n\n    /* Handle when a new output is added */\n    events.on('output_added.OutputArea', handleAddOutput);\n\n    /**\n     * Register the mime type and append_mime function with output_area\n     */\n    OutputArea.prototype.register_mime_type(EXEC_MIME_TYPE, append_mime, {\n      /* Is output safe? */\n      safe: true,\n      /* Index of renderer in `output_area.display_order` */\n      index: 0\n    });\n  }\n\n  // register the mime type if in Jupyter Notebook environment and previously unregistered\n  if (root.Jupyter !== undefined) {\n    const events = require('base/js/events');\n    const OutputArea = require('notebook/js/outputarea').OutputArea;\n\n    if (OutputArea.prototype.mime_types().indexOf(EXEC_MIME_TYPE) == -1) {\n      register_renderer(events, OutputArea);\n    }\n  }\n  if (typeof (root._bokeh_timeout) === \"undefined\" || force === true) {\n    root._bokeh_timeout = Date.now() + 5000;\n    root._bokeh_failed_load = false;\n  }\n\n  const NB_LOAD_WARNING = {'data': {'text/html':\n     \"<div style='background-color: #fdd'>\\n\"+\n     \"<p>\\n\"+\n     \"BokehJS does not appear to have successfully loaded. If loading BokehJS from CDN, this \\n\"+\n     \"may be due to a slow or bad network connection. Possible fixes:\\n\"+\n     \"</p>\\n\"+\n     \"<ul>\\n\"+\n     \"<li>re-rerun `output_notebook()` to attempt to load from CDN again, or</li>\\n\"+\n     \"<li>use INLINE resources instead, as so:</li>\\n\"+\n     \"</ul>\\n\"+\n     \"<code>\\n\"+\n     \"from bokeh.resources import INLINE\\n\"+\n     \"output_notebook(resources=INLINE)\\n\"+\n     \"</code>\\n\"+\n     \"</div>\"}};\n\n  function display_loaded() {\n    const el = document.getElementById(\"5621\");\n    if (el != null) {\n      el.textContent = \"BokehJS is loading...\";\n    }\n    if (root.Bokeh !== undefined) {\n      if (el != null) {\n        el.textContent = \"BokehJS \" + root.Bokeh.version + \" successfully loaded.\";\n      }\n    } else if (Date.now() < root._bokeh_timeout) {\n      setTimeout(display_loaded, 100)\n    }\n  }\n\n  function run_callbacks() {\n    try {\n      root._bokeh_onload_callbacks.forEach(function(callback) {\n        if (callback != null)\n          callback();\n      });\n    } finally {\n      delete root._bokeh_onload_callbacks\n    }\n    console.debug(\"Bokeh: all callbacks have finished\");\n  }\n\n  function load_libs(css_urls, js_urls, callback) {\n    if (css_urls == null) css_urls = [];\n    if (js_urls == null) js_urls = [];\n\n    root._bokeh_onload_callbacks.push(callback);\n    if (root._bokeh_is_loading > 0) {\n      console.debug(\"Bokeh: BokehJS is being loaded, scheduling callback at\", now());\n      return null;\n    }\n    if (js_urls == null || js_urls.length === 0) {\n      run_callbacks();\n      return null;\n    }\n    console.debug(\"Bokeh: BokehJS not loaded, scheduling load and callback at\", now());\n    root._bokeh_is_loading = css_urls.length + js_urls.length;\n\n    function on_load() {\n      root._bokeh_is_loading--;\n      if (root._bokeh_is_loading === 0) {\n        console.debug(\"Bokeh: all BokehJS libraries/stylesheets loaded\");\n        run_callbacks()\n      }\n    }\n\n    function on_error(url) {\n      console.error(\"failed to load \" + url);\n    }\n\n    for (let i = 0; i < css_urls.length; i++) {\n      const url = css_urls[i];\n      const element = document.createElement(\"link\");\n      element.onload = on_load;\n      element.onerror = on_error.bind(null, url);\n      element.rel = \"stylesheet\";\n      element.type = \"text/css\";\n      element.href = url;\n      console.debug(\"Bokeh: injecting link tag for BokehJS stylesheet: \", url);\n      document.body.appendChild(element);\n    }\n\n    for (let i = 0; i < js_urls.length; i++) {\n      const url = js_urls[i];\n      const element = document.createElement('script');\n      element.onload = on_load;\n      element.onerror = on_error.bind(null, url);\n      element.async = false;\n      element.src = url;\n      console.debug(\"Bokeh: injecting script tag for BokehJS library: \", url);\n      document.head.appendChild(element);\n    }\n  };\n\n  function inject_raw_css(css) {\n    const element = document.createElement(\"style\");\n    element.appendChild(document.createTextNode(css));\n    document.body.appendChild(element);\n  }\n\n  const js_urls = [\"https://cdn.bokeh.org/bokeh/release/bokeh-2.4.3.min.js\", \"https://cdn.bokeh.org/bokeh/release/bokeh-gl-2.4.3.min.js\", \"https://cdn.bokeh.org/bokeh/release/bokeh-widgets-2.4.3.min.js\", \"https://cdn.bokeh.org/bokeh/release/bokeh-tables-2.4.3.min.js\", \"https://cdn.bokeh.org/bokeh/release/bokeh-mathjax-2.4.3.min.js\", \"https://unpkg.com/@holoviz/panel@0.13.1/dist/panel.min.js\"];\n  const css_urls = [];\n\n  const inline_js = [    function(Bokeh) {\n      Bokeh.set_log_level(\"info\");\n    },\nfunction(Bokeh) {\n    }\n  ];\n\n  function run_inline_js() {\n    if (root.Bokeh !== undefined || force === true) {\n          for (let i = 0; i < inline_js.length; i++) {\n      inline_js[i].call(root, root.Bokeh);\n    }\nif (force === true) {\n        display_loaded();\n      }} else if (Date.now() < root._bokeh_timeout) {\n      setTimeout(run_inline_js, 100);\n    } else if (!root._bokeh_failed_load) {\n      console.log(\"Bokeh: BokehJS failed to load within specified timeout.\");\n      root._bokeh_failed_load = true;\n    } else if (force !== true) {\n      const cell = $(document.getElementById(\"5621\")).parents('.cell').data().cell;\n      cell.output_area.append_execute_result(NB_LOAD_WARNING)\n    }\n  }\n\n  if (root._bokeh_is_loading === 0) {\n    console.debug(\"Bokeh: BokehJS loaded, going straight to plotting\");\n    run_inline_js();\n  } else {\n    load_libs(css_urls, js_urls, function() {\n      console.debug(\"Bokeh: BokehJS plotting callback run at\", now());\n      run_inline_js();\n    });\n  }\n}(window));",
      "application/vnd.bokehjs_load.v0+json": ""
     },
     "metadata": {},
     "output_type": "display_data"
    }
   ],
   "source": [
    "import yaml\n",
    "import pandas as pd\n",
    "import numpy as np\n",
    "import re\n",
    "from bokeh.plotting import output_notebook, figure\n",
    "import seaborn as sns\n",
    "import hvplot.pandas\n",
    "import matplotlib.pyplot as plt\n",
    "\n",
    "output_notebook()"
   ]
  },
  {
   "attachments": {},
   "cell_type": "markdown",
   "metadata": {},
   "source": [
    "## 2. Data acquisition"
   ]
  },
  {
   "attachments": {},
   "cell_type": "markdown",
   "metadata": {},
   "source": [
    "The data used in this project is obtained from two different data sources. The BMI data is obtained from https://www.ncdrisc.org/data-downloads-adiposity.html and downloaded in the csv format. This data contains out of all of the mean BMI's (with 95% confidence intervals) per country per sex, ranging from the year 1975 to 2016. In addition, the dataset contains the prevalence of certain BMI ranges (with 95% confidence intervals). For example, a person is classified as obese if the BMI is higher or equal to 30.\n",
    "\n",
    "The affordability of a healthy diet is obtained from https://databank.worldbank.org/source/food-prices-for-nutrition (select all under country, select 'Affordability of a healthy diet: ratio of cost to food expenditures' under series, select 2017 under year) and downloaded in the csv format. In this dataset the affordability of a healthy diet is defined as the ratio of the cost of a healthy diet to food expenditures. This ratio is given by country and by sex in the year 2017.\n",
    "\n",
    "Keep in mind that the BMI dataset is from the year 2017 and the healthy diet affordability dataset is from 2016. At this point in time the global BMI data is only available up to 2016 and the healthy diet data from 2017 until 2020. In this project the 2017 and 2016 will be compared. The mean BMI and heatlhy diet affordability are unlikely to change a lot from year to year and therefor are compared. However, when 2017 BMI data is available it is better to use that instead of the 2016 data."
   ]
  },
  {
   "attachments": {},
   "cell_type": "markdown",
   "metadata": {},
   "source": [
    "## 3. Loading and cleaning the data"
   ]
  },
  {
   "attachments": {},
   "cell_type": "markdown",
   "metadata": {},
   "source": [
    "The dataset are loaded into a pandas dataframe using a config file"
   ]
  },
  {
   "cell_type": "code",
   "execution_count": null,
   "metadata": {},
   "outputs": [
    {
     "ename": "",
     "evalue": "",
     "output_type": "error",
     "traceback": [
      "\u001b[1;31mnotebook controller is DISPOSED. \n",
      "\u001b[1;31mView Jupyter <a href='command:jupyter.viewOutput'>log</a> for further details."
     ]
    }
   ],
   "source": [
    "# load the datafiles using a config files\n",
    "with open(\"./config.yaml\", 'r') as stream:\n",
    "    config = yaml.safe_load(stream)\n",
    "\n",
    "bmi = config['bmi']\n",
    "healthy_diet_affordability = config['food_affordability']"
   ]
  },
  {
   "attachments": {},
   "cell_type": "markdown",
   "metadata": {},
   "source": [
    "### 3.1 BMI"
   ]
  },
  {
   "cell_type": "code",
   "execution_count": null,
   "metadata": {},
   "outputs": [
    {
     "data": {
      "text/plain": [
       "Country/Region/World                                                         object\n",
       "ISO                                                                          object\n",
       "Sex                                                                          object\n",
       "Mean BMI                                                                    float64\n",
       "Mean BMI lower 95% uncertainty interval                                     float64\n",
       "Mean BMI upper 95% uncertainty interval                                     float64\n",
       "Prevalence of BMI>=30 kg/m² (obesity)                                       float64\n",
       "Prevalence of BMI>=30 kg/m² lower 95% uncertainty interval                  float64\n",
       "Prevalence of BMI>=30 kg/m² upper 95% uncertainty interval                  float64\n",
       "Prevalence of BMI>=35 kg/m² (severe obesity)                                float64\n",
       "Prevalence of BMI>=35 kg/m² lower 95% uncertainty interval                  float64\n",
       "Prevalence of BMI>=35 kg/m² upper 95% uncertainty interval                  float64\n",
       "Prevalence of BMI<18.5 kg/m² (underweight)                                  float64\n",
       "Prevalence of BMI<18.5 kg/m² lower 95% uncertainty interval                 float64\n",
       "Prevalence of BMI<18.5 kg/m² upper 95% uncertainty interval                 float64\n",
       "Prevalence of BMI 18.5 kg/m² to <20 kg/m²                                   float64\n",
       "Prevalence of BMI 18.5 kg/m² to <20 kg/m² lower 95% uncertainty interval    float64\n",
       "Prevalence of BMI 18.5 kg/m² to <20 kg/m² upper 95% uncertainty interval    float64\n",
       "Prevalence of BMI 20 kg/m² to <25 kg/m²                                     float64\n",
       "Prevalence of BMI 20 kg/m² to <25 kg/m² lower 95% uncertainty interval      float64\n",
       "Prevalence of BMI 20 kg/m² to <25 kg/m² upper 95% uncertainty interval      float64\n",
       "Prevalence of BMI 25 kg/m² to <30 kg/m²                                     float64\n",
       "Prevalence of BMI 25 kg/m² to <30 kg/m² lower 95% uncertainty interval      float64\n",
       "Prevalence of BMI 25 kg/m² to <30 kg/m² upper 95% uncertainty interval      float64\n",
       "Prevalence of BMI 30 kg/m² to <35 kg/m²                                     float64\n",
       "Prevalence of BMI 30 kg/m² to <35 kg/m² lower 95% uncertainty interval      float64\n",
       "Prevalence of BMI 30 kg/m² to <35 kg/m² upper 95% uncertainty interval      float64\n",
       "Prevalence of BMI 35 kg/m² to <40 kg/m²                                     float64\n",
       "Prevalence of BMI 35 kg/m² to <40 kg/m² lower 95% uncertainty interval      float64\n",
       "Prevalence of BMI 35 kg/m² to <40 kg/m² upper 95% uncertainty interval      float64\n",
       "Prevalence of BMI >=40 kg/m²(morbid obesity)                                float64\n",
       "Prevalence of BMI >=40 kg/m² lower 95% uncertainty interval                 float64\n",
       "Prevalence of BMI >=40 kg/m² upper 95% uncertainty interval                 float64\n",
       "dtype: object"
      ]
     },
     "execution_count": 128,
     "metadata": {},
     "output_type": "execute_result"
    },
    {
     "ename": "",
     "evalue": "",
     "output_type": "error",
     "traceback": [
      "\u001b[1;31mnotebook controller is DISPOSED. \n",
      "\u001b[1;31mView Jupyter <a href='command:jupyter.viewOutput'>log</a> for further details."
     ]
    }
   ],
   "source": [
    "df_bmi = pd.read_csv(bmi, encoding='latin-1') # file uses latin-1 encoding\n",
    "df_bmi = df_bmi.astype({'Country/Region/World': str, 'ISO': str})\n",
    "df_bmi = df_bmi[df_bmi.Year == 2016]  # we only want the 2016 data\n",
    "df_bmi = df_bmi.drop(columns='Year')  # remove the year column, we only have 2016 left so redundant\n",
    "df_bmi.head()\n",
    "df_bmi.dtypes"
   ]
  },
  {
   "attachments": {},
   "cell_type": "markdown",
   "metadata": {},
   "source": [
    "Some column names are pretty long and make it inconvenient to read and work with. The next code chunk shortens these column names to make it more readible. This is done by regex and substituting some words into shorter words or removing parts of the column name."
   ]
  },
  {
   "cell_type": "code",
   "execution_count": null,
   "metadata": {},
   "outputs": [
    {
     "ename": "",
     "evalue": "",
     "output_type": "error",
     "traceback": [
      "\u001b[1;31mnotebook controller is DISPOSED. \n",
      "\u001b[1;31mView Jupyter <a href='command:jupyter.viewOutput'>log</a> for further details."
     ]
    }
   ],
   "source": [
    "# dict for patterns and replacements for the column names\n",
    "replace_dict = {'Prevalence': 'Prev', 'kg/m²': '', 'lower 95% uncertainty interval': 'lower', 'upper 95% uncertainty interval': 'upper'}\n",
    "for pattern, replacement in replace_dict.items():\n",
    "    df_bmi = df_bmi.rename(columns=lambda column: re.sub(pattern, replacement, column))  # loops trhough all of the columns and use re.sub for the replacement\n",
    "    "
   ]
  },
  {
   "cell_type": "code",
   "execution_count": null,
   "metadata": {},
   "outputs": [
    {
     "data": {
      "text/html": [
       "<div>\n",
       "<style scoped>\n",
       "    .dataframe tbody tr th:only-of-type {\n",
       "        vertical-align: middle;\n",
       "    }\n",
       "\n",
       "    .dataframe tbody tr th {\n",
       "        vertical-align: top;\n",
       "    }\n",
       "\n",
       "    .dataframe thead th {\n",
       "        text-align: right;\n",
       "    }\n",
       "</style>\n",
       "<table border=\"1\" class=\"dataframe\">\n",
       "  <thead>\n",
       "    <tr style=\"text-align: right;\">\n",
       "      <th></th>\n",
       "      <th>Country/Region/World</th>\n",
       "      <th>ISO</th>\n",
       "      <th>Sex</th>\n",
       "      <th>Mean BMI</th>\n",
       "      <th>Mean BMI lower</th>\n",
       "      <th>Mean BMI upper</th>\n",
       "      <th>Prev of BMI&gt;=30  (obesity)</th>\n",
       "      <th>Prev of BMI&gt;=30  lower</th>\n",
       "      <th>Prev of BMI&gt;=30  upper</th>\n",
       "      <th>Prev of BMI&gt;=35  (severe obesity)</th>\n",
       "      <th>...</th>\n",
       "      <th>Prev of BMI 25  to &lt;30  upper</th>\n",
       "      <th>Prev of BMI 30  to &lt;35</th>\n",
       "      <th>Prev of BMI 30  to &lt;35  lower</th>\n",
       "      <th>Prev of BMI 30  to &lt;35  upper</th>\n",
       "      <th>Prev of BMI 35  to &lt;40</th>\n",
       "      <th>Prev of BMI 35  to &lt;40  lower</th>\n",
       "      <th>Prev of BMI 35  to &lt;40  upper</th>\n",
       "      <th>Prev of BMI &gt;=40 (morbid obesity)</th>\n",
       "      <th>Prev of BMI &gt;=40  lower</th>\n",
       "      <th>Prev of BMI &gt;=40  upper</th>\n",
       "    </tr>\n",
       "  </thead>\n",
       "  <tbody>\n",
       "    <tr>\n",
       "      <th>41</th>\n",
       "      <td>Afghanistan</td>\n",
       "      <td>AFG</td>\n",
       "      <td>Men</td>\n",
       "      <td>22.682456</td>\n",
       "      <td>20.157475</td>\n",
       "      <td>25.241857</td>\n",
       "      <td>0.033603</td>\n",
       "      <td>0.013884</td>\n",
       "      <td>0.066334</td>\n",
       "      <td>0.003314</td>\n",
       "      <td>...</td>\n",
       "      <td>0.242503</td>\n",
       "      <td>0.030290</td>\n",
       "      <td>0.011207</td>\n",
       "      <td>0.062681</td>\n",
       "      <td>0.002271</td>\n",
       "      <td>0.000310</td>\n",
       "      <td>0.007487</td>\n",
       "      <td>0.001043</td>\n",
       "      <td>0.000074</td>\n",
       "      <td>0.004265</td>\n",
       "    </tr>\n",
       "    <tr>\n",
       "      <th>83</th>\n",
       "      <td>Albania</td>\n",
       "      <td>ALB</td>\n",
       "      <td>Men</td>\n",
       "      <td>27.174471</td>\n",
       "      <td>25.975170</td>\n",
       "      <td>28.338256</td>\n",
       "      <td>0.223735</td>\n",
       "      <td>0.153334</td>\n",
       "      <td>0.300834</td>\n",
       "      <td>0.045036</td>\n",
       "      <td>...</td>\n",
       "      <td>0.515957</td>\n",
       "      <td>0.178699</td>\n",
       "      <td>0.113401</td>\n",
       "      <td>0.252200</td>\n",
       "      <td>0.037684</td>\n",
       "      <td>0.013616</td>\n",
       "      <td>0.076984</td>\n",
       "      <td>0.007352</td>\n",
       "      <td>0.001180</td>\n",
       "      <td>0.021953</td>\n",
       "    </tr>\n",
       "    <tr>\n",
       "      <th>125</th>\n",
       "      <td>Algeria</td>\n",
       "      <td>DZA</td>\n",
       "      <td>Men</td>\n",
       "      <td>24.865386</td>\n",
       "      <td>23.487321</td>\n",
       "      <td>26.220294</td>\n",
       "      <td>0.206662</td>\n",
       "      <td>0.141854</td>\n",
       "      <td>0.279979</td>\n",
       "      <td>0.042840</td>\n",
       "      <td>...</td>\n",
       "      <td>0.463570</td>\n",
       "      <td>0.163822</td>\n",
       "      <td>0.102610</td>\n",
       "      <td>0.234048</td>\n",
       "      <td>0.031750</td>\n",
       "      <td>0.011066</td>\n",
       "      <td>0.065164</td>\n",
       "      <td>0.011090</td>\n",
       "      <td>0.002289</td>\n",
       "      <td>0.029802</td>\n",
       "    </tr>\n",
       "    <tr>\n",
       "      <th>167</th>\n",
       "      <td>American Samoa</td>\n",
       "      <td>ASM</td>\n",
       "      <td>Men</td>\n",
       "      <td>33.066721</td>\n",
       "      <td>31.338678</td>\n",
       "      <td>34.662447</td>\n",
       "      <td>0.587546</td>\n",
       "      <td>0.502606</td>\n",
       "      <td>0.666355</td>\n",
       "      <td>0.322678</td>\n",
       "      <td>...</td>\n",
       "      <td>0.370043</td>\n",
       "      <td>0.264868</td>\n",
       "      <td>0.191211</td>\n",
       "      <td>0.340031</td>\n",
       "      <td>0.183871</td>\n",
       "      <td>0.109862</td>\n",
       "      <td>0.263723</td>\n",
       "      <td>0.138807</td>\n",
       "      <td>0.067651</td>\n",
       "      <td>0.223666</td>\n",
       "    </tr>\n",
       "    <tr>\n",
       "      <th>209</th>\n",
       "      <td>Andorra</td>\n",
       "      <td>AND</td>\n",
       "      <td>Men</td>\n",
       "      <td>27.478395</td>\n",
       "      <td>24.988831</td>\n",
       "      <td>30.001977</td>\n",
       "      <td>0.267498</td>\n",
       "      <td>0.186223</td>\n",
       "      <td>0.354723</td>\n",
       "      <td>0.068565</td>\n",
       "      <td>...</td>\n",
       "      <td>0.532478</td>\n",
       "      <td>0.198934</td>\n",
       "      <td>0.125035</td>\n",
       "      <td>0.280761</td>\n",
       "      <td>0.052701</td>\n",
       "      <td>0.017627</td>\n",
       "      <td>0.109639</td>\n",
       "      <td>0.015864</td>\n",
       "      <td>0.002652</td>\n",
       "      <td>0.046309</td>\n",
       "    </tr>\n",
       "  </tbody>\n",
       "</table>\n",
       "<p>5 rows × 33 columns</p>\n",
       "</div>"
      ],
      "text/plain": [
       "    Country/Region/World  ISO  Sex   Mean BMI  Mean BMI lower  Mean BMI upper  \\\n",
       "41           Afghanistan  AFG  Men  22.682456       20.157475       25.241857   \n",
       "83               Albania  ALB  Men  27.174471       25.975170       28.338256   \n",
       "125              Algeria  DZA  Men  24.865386       23.487321       26.220294   \n",
       "167       American Samoa  ASM  Men  33.066721       31.338678       34.662447   \n",
       "209              Andorra  AND  Men  27.478395       24.988831       30.001977   \n",
       "\n",
       "     Prev of BMI>=30  (obesity)  Prev of BMI>=30  lower  \\\n",
       "41                     0.033603                0.013884   \n",
       "83                     0.223735                0.153334   \n",
       "125                    0.206662                0.141854   \n",
       "167                    0.587546                0.502606   \n",
       "209                    0.267498                0.186223   \n",
       "\n",
       "     Prev of BMI>=30  upper  Prev of BMI>=35  (severe obesity)  ...  \\\n",
       "41                 0.066334                           0.003314  ...   \n",
       "83                 0.300834                           0.045036  ...   \n",
       "125                0.279979                           0.042840  ...   \n",
       "167                0.666355                           0.322678  ...   \n",
       "209                0.354723                           0.068565  ...   \n",
       "\n",
       "     Prev of BMI 25  to <30  upper  Prev of BMI 30  to <35   \\\n",
       "41                        0.242503                 0.030290   \n",
       "83                        0.515957                 0.178699   \n",
       "125                       0.463570                 0.163822   \n",
       "167                       0.370043                 0.264868   \n",
       "209                       0.532478                 0.198934   \n",
       "\n",
       "     Prev of BMI 30  to <35  lower  Prev of BMI 30  to <35  upper  \\\n",
       "41                        0.011207                       0.062681   \n",
       "83                        0.113401                       0.252200   \n",
       "125                       0.102610                       0.234048   \n",
       "167                       0.191211                       0.340031   \n",
       "209                       0.125035                       0.280761   \n",
       "\n",
       "     Prev of BMI 35  to <40   Prev of BMI 35  to <40  lower  \\\n",
       "41                  0.002271                       0.000310   \n",
       "83                  0.037684                       0.013616   \n",
       "125                 0.031750                       0.011066   \n",
       "167                 0.183871                       0.109862   \n",
       "209                 0.052701                       0.017627   \n",
       "\n",
       "     Prev of BMI 35  to <40  upper  Prev of BMI >=40 (morbid obesity)  \\\n",
       "41                        0.007487                           0.001043   \n",
       "83                        0.076984                           0.007352   \n",
       "125                       0.065164                           0.011090   \n",
       "167                       0.263723                           0.138807   \n",
       "209                       0.109639                           0.015864   \n",
       "\n",
       "     Prev of BMI >=40  lower  Prev of BMI >=40  upper  \n",
       "41                  0.000074                 0.004265  \n",
       "83                  0.001180                 0.021953  \n",
       "125                 0.002289                 0.029802  \n",
       "167                 0.067651                 0.223666  \n",
       "209                 0.002652                 0.046309  \n",
       "\n",
       "[5 rows x 33 columns]"
      ]
     },
     "execution_count": 117,
     "metadata": {},
     "output_type": "execute_result"
    },
    {
     "ename": "",
     "evalue": "",
     "output_type": "error",
     "traceback": [
      "\u001b[1;31mnotebook controller is DISPOSED. \n",
      "\u001b[1;31mView Jupyter <a href='command:jupyter.viewOutput'>log</a> for further details."
     ]
    }
   ],
   "source": [
    "df_bmi.head()"
   ]
  },
  {
   "attachments": {},
   "cell_type": "markdown",
   "metadata": {},
   "source": [
    "### 3.2 Affordability of a healthy diet"
   ]
  },
  {
   "cell_type": "code",
   "execution_count": null,
   "metadata": {},
   "outputs": [
    {
     "ename": "",
     "evalue": "",
     "output_type": "error",
     "traceback": [
      "\u001b[1;31mnotebook controller is DISPOSED. \n",
      "\u001b[1;31mView Jupyter <a href='command:jupyter.viewOutput'>log</a> for further details."
     ]
    }
   ],
   "source": [
    "df_healthy_diet = pd.read_csv(healthy_diet_affordability, encoding='latin-1', skipfooter=5, engine='python')  # skip last lines, does not contain data\n",
    "df_healthy_diet.drop(columns=['Classification Name', 'Classification Code', 'Time', 'Time Code'], inplace=True)  # irrelevant columns\n",
    "df_healthy_diet.rename(columns={'Affordability of a healthy diet: ratio of cost to food expenditures [CoHD_fexp]': 'Affordability of a healthy diet'}, inplace=True)\n",
    "df_healthy_diet['Affordability of a healthy diet'] = df_healthy_diet['Affordability of a healthy diet'].replace('..', np.nan)\n",
    "df_healthy_diet = df_healthy_diet.astype({'Affordability of a healthy diet': float})"
   ]
  },
  {
   "cell_type": "code",
   "execution_count": null,
   "metadata": {},
   "outputs": [
    {
     "data": {
      "text/plain": [
       "Country Name                        object\n",
       "Country Code                        object\n",
       "Affordability of a healthy diet    float64\n",
       "dtype: object"
      ]
     },
     "execution_count": 119,
     "metadata": {},
     "output_type": "execute_result"
    },
    {
     "ename": "",
     "evalue": "",
     "output_type": "error",
     "traceback": [
      "\u001b[1;31mnotebook controller is DISPOSED. \n",
      "\u001b[1;31mView Jupyter <a href='command:jupyter.viewOutput'>log</a> for further details."
     ]
    }
   ],
   "source": [
    "df_healthy_diet.head()\n",
    "df_healthy_diet.dtypes"
   ]
  },
  {
   "attachments": {},
   "cell_type": "markdown",
   "metadata": {},
   "source": [
    "## 4. Data exploration"
   ]
  },
  {
   "attachments": {},
   "cell_type": "markdown",
   "metadata": {},
   "source": [
    "Before the data exploration a decision must be made wether or not the data should be merged already. This is done by seeing if there are differences in countries used in the datasets. The reasoning behind this is that he country variable the variable is on which the datasets are merged. If some countries are not shared between the datasets, the data will be omitted."
   ]
  },
  {
   "cell_type": "code",
   "execution_count": null,
   "metadata": {},
   "outputs": [
    {
     "name": "stdout",
     "output_type": "stream",
     "text": [
      "countries not in common:\n",
      " {'TLS', 'VEN', 'NIU', 'AND', 'LCN', 'SXM', 'LIC', 'SLB', 'TON', 'TCA', 'COK', 'LBY', 'GTM', 'UKR', 'PLW', 'VUT', 'WSM', 'LMC', 'GRL', 'UZB', 'ERI', 'TUV', 'FSM', 'EAS', 'AIA', 'PRK', 'WLD', 'PNG', 'ECS', 'GEO', 'MSR', 'VGB', 'HIC', 'SYR', 'LBN', 'NRU', 'PYF', 'CYM', 'ASM', 'MEA', 'BON', 'NAC', 'UMC', 'MHL', 'ABW', 'CUB', 'TKL', 'SAS', 'SSF', 'AFG', 'CUW', 'SOM', 'YEM', 'PRI', 'KIR', 'TKM'}\n",
      "\n",
      "amount: 56\n"
     ]
    },
    {
     "ename": "",
     "evalue": "",
     "output_type": "error",
     "traceback": [
      "\u001b[1;31mnotebook controller is DISPOSED. \n",
      "\u001b[1;31mView Jupyter <a href='command:jupyter.viewOutput'>log</a> for further details."
     ]
    }
   ],
   "source": [
    "countries_bmi = df_bmi['ISO'].unique()\n",
    "countries_healthy_diet = df_healthy_diet['Country Code'].unique()\n",
    "countries_not_in_common = set(countries_bmi) ^ set(countries_healthy_diet)  # check which values are not shared\n",
    "print(f'countries not in common:\\n {countries_not_in_common}\\n')\n",
    "print(f'amount: {len(countries_not_in_common)}')"
   ]
  },
  {
   "attachments": {},
   "cell_type": "markdown",
   "metadata": {},
   "source": [
    "As can be seen above there are a lot of countries (56) which are not in common between both datasets. When merging these datasets (using inner merge) this data gets lost. Therefore it makes sense to merge the datasets before data exploration, because otherwise data exploration is done on data which is later omitted."
   ]
  },
  {
   "cell_type": "code",
   "execution_count": 230,
   "metadata": {},
   "outputs": [
    {
     "data": {
      "text/html": [
       "<div>\n",
       "<style scoped>\n",
       "    .dataframe tbody tr th:only-of-type {\n",
       "        vertical-align: middle;\n",
       "    }\n",
       "\n",
       "    .dataframe tbody tr th {\n",
       "        vertical-align: top;\n",
       "    }\n",
       "\n",
       "    .dataframe thead th {\n",
       "        text-align: right;\n",
       "    }\n",
       "</style>\n",
       "<table border=\"1\" class=\"dataframe\">\n",
       "  <thead>\n",
       "    <tr style=\"text-align: right;\">\n",
       "      <th></th>\n",
       "      <th>Country Name</th>\n",
       "      <th>Country Code</th>\n",
       "      <th>Affordability of a healthy diet</th>\n",
       "      <th>Sex</th>\n",
       "      <th>Mean BMI</th>\n",
       "      <th>Mean BMI lower 95% uncertainty interval</th>\n",
       "      <th>Mean BMI upper 95% uncertainty interval</th>\n",
       "      <th>Prevalence of BMI&gt;=30 kg/m² (obesity)</th>\n",
       "      <th>Prevalence of BMI&gt;=30 kg/m² lower 95% uncertainty interval</th>\n",
       "      <th>Prevalence of BMI&gt;=30 kg/m² upper 95% uncertainty interval</th>\n",
       "      <th>...</th>\n",
       "      <th>Prevalence of BMI 25 kg/m² to &lt;30 kg/m² upper 95% uncertainty interval</th>\n",
       "      <th>Prevalence of BMI 30 kg/m² to &lt;35 kg/m²</th>\n",
       "      <th>Prevalence of BMI 30 kg/m² to &lt;35 kg/m² lower 95% uncertainty interval</th>\n",
       "      <th>Prevalence of BMI 30 kg/m² to &lt;35 kg/m² upper 95% uncertainty interval</th>\n",
       "      <th>Prevalence of BMI 35 kg/m² to &lt;40 kg/m²</th>\n",
       "      <th>Prevalence of BMI 35 kg/m² to &lt;40 kg/m² lower 95% uncertainty interval</th>\n",
       "      <th>Prevalence of BMI 35 kg/m² to &lt;40 kg/m² upper 95% uncertainty interval</th>\n",
       "      <th>Prevalence of BMI &gt;=40 kg/m²(morbid obesity)</th>\n",
       "      <th>Prevalence of BMI &gt;=40 kg/m² lower 95% uncertainty interval</th>\n",
       "      <th>Prevalence of BMI &gt;=40 kg/m² upper 95% uncertainty interval</th>\n",
       "    </tr>\n",
       "  </thead>\n",
       "  <tbody>\n",
       "    <tr>\n",
       "      <th>0</th>\n",
       "      <td>Albania</td>\n",
       "      <td>ALB</td>\n",
       "      <td>0.425</td>\n",
       "      <td>Men</td>\n",
       "      <td>27.174471</td>\n",
       "      <td>25.975170</td>\n",
       "      <td>28.338256</td>\n",
       "      <td>0.223735</td>\n",
       "      <td>0.153334</td>\n",
       "      <td>0.300834</td>\n",
       "      <td>...</td>\n",
       "      <td>0.515957</td>\n",
       "      <td>0.178699</td>\n",
       "      <td>0.113401</td>\n",
       "      <td>0.252200</td>\n",
       "      <td>0.037684</td>\n",
       "      <td>0.013616</td>\n",
       "      <td>0.076984</td>\n",
       "      <td>0.007352</td>\n",
       "      <td>0.001180</td>\n",
       "      <td>0.021953</td>\n",
       "    </tr>\n",
       "    <tr>\n",
       "      <th>1</th>\n",
       "      <td>Albania</td>\n",
       "      <td>ALB</td>\n",
       "      <td>0.425</td>\n",
       "      <td>Women</td>\n",
       "      <td>26.507512</td>\n",
       "      <td>25.196840</td>\n",
       "      <td>27.859854</td>\n",
       "      <td>0.227215</td>\n",
       "      <td>0.160322</td>\n",
       "      <td>0.300595</td>\n",
       "      <td>...</td>\n",
       "      <td>0.365555</td>\n",
       "      <td>0.154878</td>\n",
       "      <td>0.096033</td>\n",
       "      <td>0.225306</td>\n",
       "      <td>0.054146</td>\n",
       "      <td>0.022398</td>\n",
       "      <td>0.100402</td>\n",
       "      <td>0.018191</td>\n",
       "      <td>0.004656</td>\n",
       "      <td>0.044692</td>\n",
       "    </tr>\n",
       "    <tr>\n",
       "      <th>2</th>\n",
       "      <td>Algeria</td>\n",
       "      <td>DZA</td>\n",
       "      <td>0.605</td>\n",
       "      <td>Men</td>\n",
       "      <td>24.865386</td>\n",
       "      <td>23.487321</td>\n",
       "      <td>26.220294</td>\n",
       "      <td>0.206662</td>\n",
       "      <td>0.141854</td>\n",
       "      <td>0.279979</td>\n",
       "      <td>...</td>\n",
       "      <td>0.463570</td>\n",
       "      <td>0.163822</td>\n",
       "      <td>0.102610</td>\n",
       "      <td>0.234048</td>\n",
       "      <td>0.031750</td>\n",
       "      <td>0.011066</td>\n",
       "      <td>0.065164</td>\n",
       "      <td>0.011090</td>\n",
       "      <td>0.002289</td>\n",
       "      <td>0.029802</td>\n",
       "    </tr>\n",
       "    <tr>\n",
       "      <th>3</th>\n",
       "      <td>Algeria</td>\n",
       "      <td>DZA</td>\n",
       "      <td>0.605</td>\n",
       "      <td>Women</td>\n",
       "      <td>26.561166</td>\n",
       "      <td>25.080506</td>\n",
       "      <td>28.031641</td>\n",
       "      <td>0.362187</td>\n",
       "      <td>0.287831</td>\n",
       "      <td>0.440170</td>\n",
       "      <td>...</td>\n",
       "      <td>0.383587</td>\n",
       "      <td>0.225826</td>\n",
       "      <td>0.155871</td>\n",
       "      <td>0.303311</td>\n",
       "      <td>0.093082</td>\n",
       "      <td>0.047469</td>\n",
       "      <td>0.152826</td>\n",
       "      <td>0.043279</td>\n",
       "      <td>0.015501</td>\n",
       "      <td>0.089878</td>\n",
       "    </tr>\n",
       "    <tr>\n",
       "      <th>4</th>\n",
       "      <td>Angola</td>\n",
       "      <td>AGO</td>\n",
       "      <td>0.972</td>\n",
       "      <td>Men</td>\n",
       "      <td>22.436538</td>\n",
       "      <td>19.732903</td>\n",
       "      <td>25.172488</td>\n",
       "      <td>0.042276</td>\n",
       "      <td>0.016349</td>\n",
       "      <td>0.081935</td>\n",
       "      <td>...</td>\n",
       "      <td>0.237444</td>\n",
       "      <td>0.035127</td>\n",
       "      <td>0.011140</td>\n",
       "      <td>0.073699</td>\n",
       "      <td>0.005868</td>\n",
       "      <td>0.000739</td>\n",
       "      <td>0.018757</td>\n",
       "      <td>0.001281</td>\n",
       "      <td>0.000033</td>\n",
       "      <td>0.006267</td>\n",
       "    </tr>\n",
       "  </tbody>\n",
       "</table>\n",
       "<p>5 rows × 34 columns</p>\n",
       "</div>"
      ],
      "text/plain": [
       "  Country Name Country Code  Affordability of a healthy diet    Sex  \\\n",
       "0      Albania          ALB                            0.425    Men   \n",
       "1      Albania          ALB                            0.425  Women   \n",
       "2      Algeria          DZA                            0.605    Men   \n",
       "3      Algeria          DZA                            0.605  Women   \n",
       "4       Angola          AGO                            0.972    Men   \n",
       "\n",
       "    Mean BMI  Mean BMI lower 95% uncertainty interval  \\\n",
       "0  27.174471                                25.975170   \n",
       "1  26.507512                                25.196840   \n",
       "2  24.865386                                23.487321   \n",
       "3  26.561166                                25.080506   \n",
       "4  22.436538                                19.732903   \n",
       "\n",
       "   Mean BMI upper 95% uncertainty interval  \\\n",
       "0                                28.338256   \n",
       "1                                27.859854   \n",
       "2                                26.220294   \n",
       "3                                28.031641   \n",
       "4                                25.172488   \n",
       "\n",
       "   Prevalence of BMI>=30 kg/m² (obesity)  \\\n",
       "0                               0.223735   \n",
       "1                               0.227215   \n",
       "2                               0.206662   \n",
       "3                               0.362187   \n",
       "4                               0.042276   \n",
       "\n",
       "   Prevalence of BMI>=30 kg/m² lower 95% uncertainty interval  \\\n",
       "0                                           0.153334            \n",
       "1                                           0.160322            \n",
       "2                                           0.141854            \n",
       "3                                           0.287831            \n",
       "4                                           0.016349            \n",
       "\n",
       "   Prevalence of BMI>=30 kg/m² upper 95% uncertainty interval  ...  \\\n",
       "0                                           0.300834           ...   \n",
       "1                                           0.300595           ...   \n",
       "2                                           0.279979           ...   \n",
       "3                                           0.440170           ...   \n",
       "4                                           0.081935           ...   \n",
       "\n",
       "   Prevalence of BMI 25 kg/m² to <30 kg/m² upper 95% uncertainty interval  \\\n",
       "0                                           0.515957                        \n",
       "1                                           0.365555                        \n",
       "2                                           0.463570                        \n",
       "3                                           0.383587                        \n",
       "4                                           0.237444                        \n",
       "\n",
       "   Prevalence of BMI 30 kg/m² to <35 kg/m²  \\\n",
       "0                                 0.178699   \n",
       "1                                 0.154878   \n",
       "2                                 0.163822   \n",
       "3                                 0.225826   \n",
       "4                                 0.035127   \n",
       "\n",
       "   Prevalence of BMI 30 kg/m² to <35 kg/m² lower 95% uncertainty interval  \\\n",
       "0                                           0.113401                        \n",
       "1                                           0.096033                        \n",
       "2                                           0.102610                        \n",
       "3                                           0.155871                        \n",
       "4                                           0.011140                        \n",
       "\n",
       "   Prevalence of BMI 30 kg/m² to <35 kg/m² upper 95% uncertainty interval  \\\n",
       "0                                           0.252200                        \n",
       "1                                           0.225306                        \n",
       "2                                           0.234048                        \n",
       "3                                           0.303311                        \n",
       "4                                           0.073699                        \n",
       "\n",
       "   Prevalence of BMI 35 kg/m² to <40 kg/m²  \\\n",
       "0                                 0.037684   \n",
       "1                                 0.054146   \n",
       "2                                 0.031750   \n",
       "3                                 0.093082   \n",
       "4                                 0.005868   \n",
       "\n",
       "   Prevalence of BMI 35 kg/m² to <40 kg/m² lower 95% uncertainty interval  \\\n",
       "0                                           0.013616                        \n",
       "1                                           0.022398                        \n",
       "2                                           0.011066                        \n",
       "3                                           0.047469                        \n",
       "4                                           0.000739                        \n",
       "\n",
       "   Prevalence of BMI 35 kg/m² to <40 kg/m² upper 95% uncertainty interval  \\\n",
       "0                                           0.076984                        \n",
       "1                                           0.100402                        \n",
       "2                                           0.065164                        \n",
       "3                                           0.152826                        \n",
       "4                                           0.018757                        \n",
       "\n",
       "   Prevalence of BMI >=40 kg/m²(morbid obesity)  \\\n",
       "0                                      0.007352   \n",
       "1                                      0.018191   \n",
       "2                                      0.011090   \n",
       "3                                      0.043279   \n",
       "4                                      0.001281   \n",
       "\n",
       "   Prevalence of BMI >=40 kg/m² lower 95% uncertainty interval  \\\n",
       "0                                           0.001180             \n",
       "1                                           0.004656             \n",
       "2                                           0.002289             \n",
       "3                                           0.015501             \n",
       "4                                           0.000033             \n",
       "\n",
       "   Prevalence of BMI >=40 kg/m² upper 95% uncertainty interval  \n",
       "0                                           0.021953            \n",
       "1                                           0.044692            \n",
       "2                                           0.029802            \n",
       "3                                           0.089878            \n",
       "4                                           0.006267            \n",
       "\n",
       "[5 rows x 34 columns]"
      ]
     },
     "execution_count": 230,
     "metadata": {},
     "output_type": "execute_result"
    }
   ],
   "source": [
    "df_merged = df_healthy_diet.merge(right=df_bmi, \n",
    "                                  left_on='Country Code',\n",
    "                                  right_on='ISO',\n",
    "                                  how='inner')\n",
    "df_merged.drop(columns=['Country/Region/World', 'ISO'], inplace=True)  # duplicate columns that can be deleted\n",
    "df_merged.head()"
   ]
  },
  {
   "cell_type": "code",
   "execution_count": 194,
   "metadata": {},
   "outputs": [
    {
     "name": "stdout",
     "output_type": "stream",
     "text": [
      "<class 'pandas.core.frame.DataFrame'>\n",
      "Int64Index: 330 entries, 0 to 329\n",
      "Data columns (total 34 columns):\n",
      " #   Column                                                                    Non-Null Count  Dtype  \n",
      "---  ------                                                                    --------------  -----  \n",
      " 0   Country Name                                                              330 non-null    object \n",
      " 1   Country Code                                                              330 non-null    object \n",
      " 2   Affordability of a healthy diet                                           322 non-null    float64\n",
      " 3   Sex                                                                       330 non-null    object \n",
      " 4   Mean BMI                                                                  330 non-null    float64\n",
      " 5   Mean BMI lower 95% uncertainty interval                                   330 non-null    float64\n",
      " 6   Mean BMI upper 95% uncertainty interval                                   330 non-null    float64\n",
      " 7   Prevalence of BMI>=30 kg/m² (obesity)                                     330 non-null    float64\n",
      " 8   Prevalence of BMI>=30 kg/m² lower 95% uncertainty interval                330 non-null    float64\n",
      " 9   Prevalence of BMI>=30 kg/m² upper 95% uncertainty interval                330 non-null    float64\n",
      " 10  Prevalence of BMI>=35 kg/m² (severe obesity)                              330 non-null    float64\n",
      " 11  Prevalence of BMI>=35 kg/m² lower 95% uncertainty interval                330 non-null    float64\n",
      " 12  Prevalence of BMI>=35 kg/m² upper 95% uncertainty interval                330 non-null    float64\n",
      " 13  Prevalence of BMI<18.5 kg/m² (underweight)                                330 non-null    float64\n",
      " 14  Prevalence of BMI<18.5 kg/m² lower 95% uncertainty interval               330 non-null    float64\n",
      " 15  Prevalence of BMI<18.5 kg/m² upper 95% uncertainty interval               330 non-null    float64\n",
      " 16  Prevalence of BMI 18.5 kg/m² to <20 kg/m²                                 330 non-null    float64\n",
      " 17  Prevalence of BMI 18.5 kg/m² to <20 kg/m² lower 95% uncertainty interval  330 non-null    float64\n",
      " 18  Prevalence of BMI 18.5 kg/m² to <20 kg/m² upper 95% uncertainty interval  330 non-null    float64\n",
      " 19  Prevalence of BMI 20 kg/m² to <25 kg/m²                                   330 non-null    float64\n",
      " 20  Prevalence of BMI 20 kg/m² to <25 kg/m² lower 95% uncertainty interval    330 non-null    float64\n",
      " 21  Prevalence of BMI 20 kg/m² to <25 kg/m² upper 95% uncertainty interval    330 non-null    float64\n",
      " 22  Prevalence of BMI 25 kg/m² to <30 kg/m²                                   330 non-null    float64\n",
      " 23  Prevalence of BMI 25 kg/m² to <30 kg/m² lower 95% uncertainty interval    330 non-null    float64\n",
      " 24  Prevalence of BMI 25 kg/m² to <30 kg/m² upper 95% uncertainty interval    330 non-null    float64\n",
      " 25  Prevalence of BMI 30 kg/m² to <35 kg/m²                                   330 non-null    float64\n",
      " 26  Prevalence of BMI 30 kg/m² to <35 kg/m² lower 95% uncertainty interval    330 non-null    float64\n",
      " 27  Prevalence of BMI 30 kg/m² to <35 kg/m² upper 95% uncertainty interval    330 non-null    float64\n",
      " 28  Prevalence of BMI 35 kg/m² to <40 kg/m²                                   330 non-null    float64\n",
      " 29  Prevalence of BMI 35 kg/m² to <40 kg/m² lower 95% uncertainty interval    330 non-null    float64\n",
      " 30  Prevalence of BMI 35 kg/m² to <40 kg/m² upper 95% uncertainty interval    330 non-null    float64\n",
      " 31  Prevalence of BMI >=40 kg/m²(morbid obesity)                              330 non-null    float64\n",
      " 32  Prevalence of BMI >=40 kg/m² lower 95% uncertainty interval               330 non-null    float64\n",
      " 33  Prevalence of BMI >=40 kg/m² upper 95% uncertainty interval               330 non-null    float64\n",
      "dtypes: float64(31), object(3)\n",
      "memory usage: 90.2+ KB\n"
     ]
    }
   ],
   "source": [
    "df_merged.info()"
   ]
  },
  {
   "attachments": {},
   "cell_type": "markdown",
   "metadata": {},
   "source": [
    "We have 330 entries left after merging. If correct, each country should have BMI data about both sexes. So data of a total of $330 / 2 = 165$  countries are available. This is checked in the following code chunk "
   ]
  },
  {
   "cell_type": "code",
   "execution_count": 195,
   "metadata": {},
   "outputs": [
    {
     "data": {
      "text/plain": [
       "165"
      ]
     },
     "execution_count": 195,
     "metadata": {},
     "output_type": "execute_result"
    }
   ],
   "source": [
    "df_merged['Country Name'].nunique()"
   ]
  },
  {
   "attachments": {},
   "cell_type": "markdown",
   "metadata": {},
   "source": [
    "This confirms that the dataset indeed holds data of 165 countries."
   ]
  },
  {
   "attachments": {},
   "cell_type": "markdown",
   "metadata": {},
   "source": [
    "When looking at the 'Affordability of a healthy diet' data, we should select only one gender. This is because the data of 'Affordability of a healthy diet' is available per country. This data is simply the same per sex per country. To confirm this, the descriptive statistics can be compared"
   ]
  },
  {
   "cell_type": "code",
   "execution_count": 196,
   "metadata": {},
   "outputs": [
    {
     "data": {
      "text/plain": [
       "count    True\n",
       "mean     True\n",
       "std      True\n",
       "min      True\n",
       "25%      True\n",
       "50%      True\n",
       "75%      True\n",
       "max      True\n",
       "Name: Affordability of a healthy diet, dtype: bool"
      ]
     },
     "execution_count": 196,
     "metadata": {},
     "output_type": "execute_result"
    }
   ],
   "source": [
    "df_merged[df_merged['Sex'] == 'Men']['Affordability of a healthy diet'].describe() == df_merged[df_merged['Sex'] == 'Women']['Affordability of a healthy diet'].describe()"
   ]
  },
  {
   "attachments": {},
   "cell_type": "markdown",
   "metadata": {},
   "source": [
    "This confirms that they are the same. We can now select one gender when looking at this data"
   ]
  },
  {
   "cell_type": "code",
   "execution_count": 197,
   "metadata": {},
   "outputs": [
    {
     "data": {
      "text/plain": [
       "count    161.000000\n",
       "mean       0.818025\n",
       "std        0.679886\n",
       "min        0.247000\n",
       "25%        0.391000\n",
       "50%        0.640000\n",
       "75%        0.972000\n",
       "max        5.272000\n",
       "Name: Affordability of a healthy diet, dtype: float64"
      ]
     },
     "execution_count": 197,
     "metadata": {},
     "output_type": "execute_result"
    }
   ],
   "source": [
    "df_merged[df_merged['Sex'] == 'Men']['Affordability of a healthy diet'].describe()"
   ]
  },
  {
   "attachments": {},
   "cell_type": "markdown",
   "metadata": {},
   "source": [
    "The first thing that is noticebly is that there are 161 entries, while we have 165 countries. This is probably due to missing values. Additionaly, a high standard deviation can be observed. The max value is also hihg compared the 75% value. This means that here are probably outliers.\n"
   ]
  },
  {
   "cell_type": "code",
   "execution_count": 198,
   "metadata": {},
   "outputs": [
    {
     "data": {
      "text/plain": [
       "4"
      ]
     },
     "execution_count": 198,
     "metadata": {},
     "output_type": "execute_result"
    }
   ],
   "source": [
    "df_merged[df_merged['Sex'] == 'Men']['Affordability of a healthy diet'].isna().sum()"
   ]
  },
  {
   "attachments": {},
   "cell_type": "markdown",
   "metadata": {},
   "source": [
    "There are indeed missing data for four countries. Since this data cannot be used in our data analysis later on, we should omit it from this dataset."
   ]
  },
  {
   "cell_type": "code",
   "execution_count": 231,
   "metadata": {},
   "outputs": [
    {
     "data": {
      "text/plain": [
       "0"
      ]
     },
     "execution_count": 231,
     "metadata": {},
     "output_type": "execute_result"
    }
   ],
   "source": [
    "df_merged = df_merged[df_merged['Affordability of a healthy diet'].notna()]\n",
    "df_merged[df_merged['Sex'] == 'Men']['Affordability of a healthy diet'].isna().sum()"
   ]
  },
  {
   "attachments": {},
   "cell_type": "markdown",
   "metadata": {},
   "source": [
    "The rows with missing values in the 'Affordability of a healthy diet have been succesfully removed. Since the descriptive statistics show a a large distribtuion it might be good to look at the distribution of the data visually using a boxplot."
   ]
  },
  {
   "cell_type": "code",
   "execution_count": 232,
   "metadata": {},
   "outputs": [
    {
     "data": {
      "image/png": "[encoded data removed]",
      "text/plain": [
       "<Figure size 640x480 with 1 Axes>"
      ]
     },
     "metadata": {},
     "output_type": "display_data"
    }
   ],
   "source": [
    "sns.set(style=\"darkgrid\")  # add grids to plot\n",
    "sns.boxplot(x=df_merged['Affordability of a healthy diet'])# title='Test')\n",
    "# sns.title('Boxplot of mean BMI per sex')\n",
    "plt.show()"
   ]
  },
  {
   "attachments": {},
   "cell_type": "markdown",
   "metadata": {},
   "source": [
    "As expected there are a lot of outliers in the upper range. this means that in certain countries the healthy diet is very unaffordable. To get an insight into the reason, we can look at these countries."
   ]
  },
  {
   "cell_type": "code",
   "execution_count": 233,
   "metadata": {},
   "outputs": [
    {
     "data": {
      "text/plain": [
       "array(['Burkina Faso', 'Burundi', 'Central African Republic',\n",
       "       'Congo, Dem. Rep.', 'Ethiopia', 'Ghana', 'Liberia', 'Malawi',\n",
       "       'Mozambique', 'Niger'], dtype=object)"
      ]
     },
     "execution_count": 233,
     "metadata": {},
     "output_type": "execute_result"
    }
   ],
   "source": [
    "stats = df_merged[df_merged['Sex'] == 'Men']['Affordability of a healthy diet'].describe()\n",
    "q1 = stats[4]\n",
    "q3 = stats[6]\n",
    "iqr = q3 - q1\n",
    "upper_value = q3 + 1.5 * iqr\n",
    "\n",
    "df_merged[df_merged['Affordability of a healthy diet'] > upper_value]['Country Name'].unique()"
   ]
  },
  {
   "attachments": {},
   "cell_type": "markdown",
   "metadata": {},
   "source": [
    "These are all poor countries in Africa. Since there is a lot of poverty in Africa, it makes sense that a healthy diet is also very unaffordable, just like all the other food. The same problem may also occur in other poor countries outside africa. Because of this reason and the intention of this project the decision is made to only include countries located in Europe. To do this, a table is found in where it list all of the countries and there 3 letter codes and there corresponding continent. The table is obtained from: https://gist.githubusercontent.com/stevewithington/20a69c0b6d2ff846ea5d35e5fc47f26c/raw/13716ceb2f22b5643ce5e7039643c86a0e0c6da6/country-and-continent-codes-list-csv.csv. "
   ]
  },
  {
   "cell_type": "code",
   "execution_count": 234,
   "metadata": {},
   "outputs": [
    {
     "data": {
      "text/html": [
       "<div>\n",
       "<style scoped>\n",
       "    .dataframe tbody tr th:only-of-type {\n",
       "        vertical-align: middle;\n",
       "    }\n",
       "\n",
       "    .dataframe tbody tr th {\n",
       "        vertical-align: top;\n",
       "    }\n",
       "\n",
       "    .dataframe thead th {\n",
       "        text-align: right;\n",
       "    }\n",
       "</style>\n",
       "<table border=\"1\" class=\"dataframe\">\n",
       "  <thead>\n",
       "    <tr style=\"text-align: right;\">\n",
       "      <th></th>\n",
       "      <th>Continent_Name</th>\n",
       "      <th>Continent_Code</th>\n",
       "      <th>Country_Name</th>\n",
       "      <th>Two_Letter_Country_Code</th>\n",
       "      <th>Three_Letter_Country_Code</th>\n",
       "      <th>Country_Number</th>\n",
       "    </tr>\n",
       "  </thead>\n",
       "  <tbody>\n",
       "    <tr>\n",
       "      <th>0</th>\n",
       "      <td>Asia</td>\n",
       "      <td>AS</td>\n",
       "      <td>Afghanistan, Islamic Republic of</td>\n",
       "      <td>AF</td>\n",
       "      <td>AFG</td>\n",
       "      <td>4.0</td>\n",
       "    </tr>\n",
       "    <tr>\n",
       "      <th>1</th>\n",
       "      <td>Europe</td>\n",
       "      <td>EU</td>\n",
       "      <td>Albania, Republic of</td>\n",
       "      <td>AL</td>\n",
       "      <td>ALB</td>\n",
       "      <td>8.0</td>\n",
       "    </tr>\n",
       "    <tr>\n",
       "      <th>2</th>\n",
       "      <td>Antarctica</td>\n",
       "      <td>AN</td>\n",
       "      <td>Antarctica (the territory South of 60 deg S)</td>\n",
       "      <td>AQ</td>\n",
       "      <td>ATA</td>\n",
       "      <td>10.0</td>\n",
       "    </tr>\n",
       "    <tr>\n",
       "      <th>3</th>\n",
       "      <td>Africa</td>\n",
       "      <td>AF</td>\n",
       "      <td>Algeria, People's Democratic Republic of</td>\n",
       "      <td>DZ</td>\n",
       "      <td>DZA</td>\n",
       "      <td>12.0</td>\n",
       "    </tr>\n",
       "    <tr>\n",
       "      <th>4</th>\n",
       "      <td>Oceania</td>\n",
       "      <td>OC</td>\n",
       "      <td>American Samoa</td>\n",
       "      <td>AS</td>\n",
       "      <td>ASM</td>\n",
       "      <td>16.0</td>\n",
       "    </tr>\n",
       "  </tbody>\n",
       "</table>\n",
       "</div>"
      ],
      "text/plain": [
       "  Continent_Name Continent_Code                                  Country_Name  \\\n",
       "0           Asia             AS              Afghanistan, Islamic Republic of   \n",
       "1         Europe             EU                          Albania, Republic of   \n",
       "2     Antarctica             AN  Antarctica (the territory South of 60 deg S)   \n",
       "3         Africa             AF      Algeria, People's Democratic Republic of   \n",
       "4        Oceania             OC                                American Samoa   \n",
       "\n",
       "  Two_Letter_Country_Code Three_Letter_Country_Code  Country_Number  \n",
       "0                      AF                       AFG             4.0  \n",
       "1                      AL                       ALB             8.0  \n",
       "2                      AQ                       ATA            10.0  \n",
       "3                      DZ                       DZA            12.0  \n",
       "4                      AS                       ASM            16.0  "
      ]
     },
     "execution_count": 234,
     "metadata": {},
     "output_type": "execute_result"
    }
   ],
   "source": [
    "df_countries = pd.read_csv('https://gist.githubusercontent.com/stevewithington/20a69c0b6d2ff846ea5d35e5fc47f26c/raw/13716ceb2f22b5643ce5e7039643c86a0e0c6da6/country-and-continent-codes-list-csv.csv')\n",
    "df_countries.head()"
   ]
  },
  {
   "cell_type": "code",
   "execution_count": 238,
   "metadata": {},
   "outputs": [],
   "source": [
    "contries_eu = df_countries[df_countries['Continent_Name'] == 'Europe']['Three_Letter_Country_Code']\n",
    "df_merged = df_merged[df_merged['Country Code'].isin(contries_eu)]"
   ]
  },
  {
   "cell_type": "code",
   "execution_count": 239,
   "metadata": {},
   "outputs": [
    {
     "data": {
      "text/plain": [
       "43"
      ]
     },
     "execution_count": 239,
     "metadata": {},
     "output_type": "execute_result"
    }
   ],
   "source": [
    "df_merged['Country Name'].nunique()"
   ]
  },
  {
   "attachments": {},
   "cell_type": "markdown",
   "metadata": {},
   "source": [
    "There are 43 countries left after selecting European countries. We can again have a look at the distribution of the data, descriptive and graphically."
   ]
  },
  {
   "cell_type": "code",
   "execution_count": 241,
   "metadata": {},
   "outputs": [
    {
     "data": {
      "text/plain": [
       "count    86.000000\n",
       "mean      0.384070\n",
       "std       0.081929\n",
       "min       0.247000\n",
       "25%       0.335000\n",
       "50%       0.378000\n",
       "75%       0.432500\n",
       "max       0.608000\n",
       "Name: Affordability of a healthy diet, dtype: float64"
      ]
     },
     "execution_count": 241,
     "metadata": {},
     "output_type": "execute_result"
    }
   ],
   "source": [
    "df_merged['Affordability of a healthy diet'].describe()"
   ]
  },
  {
   "cell_type": "code",
   "execution_count": 242,
   "metadata": {},
   "outputs": [
    {
     "data": {
      "image/png": "[encoded data removed]",
      "text/plain": [
       "<Figure size 640x480 with 1 Axes>"
      ]
     },
     "metadata": {},
     "output_type": "display_data"
    }
   ],
   "source": [
    "sns.set(style=\"darkgrid\")  # add grids to plot\n",
    "sns.boxplot(x=df_merged['Affordability of a healthy diet'])# title='Test')\n",
    "# sns.title('Boxplot of mean BMI per sex')\n",
    "plt.show()"
   ]
  },
  {
   "attachments": {},
   "cell_type": "markdown",
   "metadata": {},
   "source": [
    "The distribution of the data is now better. There is an outliers, which is not removed. This is because ...."
   ]
  },
  {
   "attachments": {},
   "cell_type": "markdown",
   "metadata": {},
   "source": [
    "The BMI data can also be explored:"
   ]
  },
  {
   "cell_type": "code",
   "execution_count": 251,
   "metadata": {},
   "outputs": [
    {
     "data": {
      "text/plain": [
       "count    86.000000\n",
       "mean     26.614409\n",
       "std       0.947460\n",
       "min      23.818752\n",
       "25%      26.062499\n",
       "50%      26.669177\n",
       "75%      27.201321\n",
       "max      28.942234\n",
       "Name: Mean BMI, dtype: float64"
      ]
     },
     "execution_count": 251,
     "metadata": {},
     "output_type": "execute_result"
    }
   ],
   "source": [
    "df_merged['Mean BMI'].describe()"
   ]
  },
  {
   "attachments": {},
   "cell_type": "markdown",
   "metadata": {},
   "source": [
    "As can be seen the mean BMI in the world using the available data is approximately 26.6. At a BMI higher or equal to 25 a person is classified as 'overweight'. This means that the mean of the population is overweight. The standard deviation and quartiles look nicely distributed"
   ]
  },
  {
   "cell_type": "code",
   "execution_count": 254,
   "metadata": {},
   "outputs": [
    {
     "name": "stderr",
     "output_type": "stream",
     "text": [
      "BokehUserWarning: ColumnDataSource's columns must be of the same length. Current lengths: ('Mean BMI', 2), ('Mean_BMI', 0), ('index', 2)\n"
     ]
    },
    {
     "data": {},
     "metadata": {},
     "output_type": "display_data"
    },
    {
     "data": {
      "application/vnd.holoviews_exec.v0+json": "",
      "text/html": [
       "<div id='5851'>\n",
       "  <div class=\"bk-root\" id=\"dc1ced57-9e78-44fc-9ae7-a7243e0811c1\" data-root-id=\"5851\"></div>\n",
       "</div>\n",
       "<script type=\"application/javascript\">(function(root) {\n",
       "  function embed_document(root) {\n",
       "    var docs_json = {\"8e14171c-29d2-4b20-b38a-7ae2b2d46505\":{\"defs\":[{\"extends\":null,\"module\":null,\"name\":\"ReactiveHTML1\",\"overrides\":[],\"properties\":[]},{\"extends\":null,\"module\":null,\"name\":\"FlexBox1\",\"overrides\":[],\"properties\":[{\"default\":\"flex-start\",\"kind\":null,\"name\":\"align_content\"},{\"default\":\"flex-start\",\"kind\":null,\"name\":\"align_items\"},{\"default\":\"row\",\"kind\":null,\"name\":\"flex_direction\"},{\"default\":\"wrap\",\"kind\":null,\"name\":\"flex_wrap\"},{\"default\":\"flex-start\",\"kind\":null,\"name\":\"justify_content\"}]},{\"extends\":null,\"module\":null,\"name\":\"GridStack1\",\"overrides\":[],\"properties\":[{\"default\":\"warn\",\"kind\":null,\"name\":\"mode\"},{\"default\":null,\"kind\":null,\"name\":\"ncols\"},{\"default\":null,\"kind\":null,\"name\":\"nrows\"},{\"default\":true,\"kind\":null,\"name\":\"allow_resize\"},{\"default\":true,\"kind\":null,\"name\":\"allow_drag\"},{\"default\":[],\"kind\":null,\"name\":\"state\"}]},{\"extends\":null,\"module\":null,\"name\":\"click1\",\"overrides\":[],\"properties\":[{\"default\":\"\",\"kind\":null,\"name\":\"terminal_output\"},{\"default\":\"\",\"kind\":null,\"name\":\"debug_name\"},{\"default\":0,\"kind\":null,\"name\":\"clears\"}]},{\"extends\":null,\"module\":null,\"name\":\"NotificationAreaBase1\",\"overrides\":[],\"properties\":[{\"default\":\"bottom-right\",\"kind\":null,\"name\":\"position\"},{\"default\":0,\"kind\":null,\"name\":\"_clear\"}]},{\"extends\":null,\"module\":null,\"name\":\"NotificationArea1\",\"overrides\":[],\"properties\":[{\"default\":[],\"kind\":null,\"name\":\"notifications\"},{\"default\":\"bottom-right\",\"kind\":null,\"name\":\"position\"},{\"default\":0,\"kind\":null,\"name\":\"_clear\"},{\"default\":[{\"background\":\"#ffc107\",\"icon\":{\"className\":\"fas fa-exclamation-triangle\",\"color\":\"white\",\"tagName\":\"i\"},\"type\":\"warning\"},{\"background\":\"#007bff\",\"icon\":{\"className\":\"fas fa-info-circle\",\"color\":\"white\",\"tagName\":\"i\"},\"type\":\"info\"}],\"kind\":null,\"name\":\"types\"}]},{\"extends\":null,\"module\":null,\"name\":\"Notification\",\"overrides\":[],\"properties\":[{\"default\":null,\"kind\":null,\"name\":\"background\"},{\"default\":3000,\"kind\":null,\"name\":\"duration\"},{\"default\":null,\"kind\":null,\"name\":\"icon\"},{\"default\":\"\",\"kind\":null,\"name\":\"message\"},{\"default\":null,\"kind\":null,\"name\":\"notification_type\"},{\"default\":false,\"kind\":null,\"name\":\"_destroyed\"}]},{\"extends\":null,\"module\":null,\"name\":\"TemplateActions1\",\"overrides\":[],\"properties\":[{\"default\":0,\"kind\":null,\"name\":\"open_modal\"},{\"default\":0,\"kind\":null,\"name\":\"close_modal\"}]},{\"extends\":null,\"module\":null,\"name\":\"MaterialTemplateActions1\",\"overrides\":[],\"properties\":[{\"default\":0,\"kind\":null,\"name\":\"open_modal\"},{\"default\":0,\"kind\":null,\"name\":\"close_modal\"}]}],\"roots\":{\"references\":[{\"attributes\":{},\"id\":\"5871\",\"type\":\"SaveTool\"},{\"attributes\":{},\"id\":\"5956\",\"type\":\"Selection\"},{\"attributes\":{},\"id\":\"5941\",\"type\":\"CategoricalTickFormatter\"},{\"attributes\":{\"coordinates\":null,\"data_source\":{\"id\":\"5883\"},\"glyph\":{\"id\":\"5885\"},\"group\":null,\"hover_glyph\":null,\"muted_glyph\":{\"id\":\"5887\"},\"nonselection_glyph\":{\"id\":\"5886\"},\"selection_glyph\":{\"id\":\"5890\"},\"view\":{\"id\":\"5889\"}},\"id\":\"5888\",\"type\":\"GlyphRenderer\"},{\"attributes\":{\"source\":{\"id\":\"5924\"}},\"id\":\"5930\",\"type\":\"CDSView\"},{\"attributes\":{\"overlay\":{\"id\":\"5876\"}},\"id\":\"5874\",\"type\":\"BoxZoomTool\"},{\"attributes\":{},\"id\":\"5875\",\"type\":\"ResetTool\"},{\"attributes\":{},\"id\":\"5944\",\"type\":\"BasicTickFormatter\"},{\"attributes\":{\"factors\":[\"Men\",\"Women\"],\"palette\":[\"dodgerblue\",\"violet\"]},\"id\":\"5923\",\"type\":\"CategoricalColorMapper\"},{\"attributes\":{\"data\":{\"bottom\":{\"__ndarray__\":\"4Ec4tvl5O0DmVzj4H7c6QA==\",\"dtype\":\"float64\",\"order\":\"little\",\"shape\":[2]},\"box_fill_color\":[\"Men\",\"Women\"],\"index\":[\"Men\",\"Women\"],\"top\":{\"__ndarray__\":\"6/v3Q6UpO0BbknM2/Dk6QA==\",\"dtype\":\"float64\",\"order\":\"little\",\"shape\":[2]}},\"selected\":{\"id\":\"5964\"},\"selection_policy\":{\"id\":\"5963\"}},\"id\":\"5924\",\"type\":\"ColumnDataSource\"},{\"attributes\":{\"fill_alpha\":{\"value\":0.2},\"fill_color\":{\"value\":\"black\"},\"hatch_alpha\":{\"value\":0.2},\"line_alpha\":{\"value\":0.2},\"x\":{\"field\":\"index\"},\"y\":{\"field\":\"Mean_BMI\"}},\"id\":\"5887\",\"type\":\"Circle\"},{\"attributes\":{},\"id\":\"5957\",\"type\":\"UnionRenderers\"},{\"attributes\":{\"margin\":[5,5,5,5],\"name\":\"HSpacer04842\",\"sizing_mode\":\"stretch_width\"},\"id\":\"5852\",\"type\":\"Spacer\"},{\"attributes\":{\"coordinates\":null,\"data_source\":{\"id\":\"5924\"},\"glyph\":{\"id\":\"5926\"},\"group\":null,\"hover_glyph\":null,\"muted_glyph\":{\"id\":\"5928\"},\"nonselection_glyph\":{\"id\":\"5927\"},\"selection_glyph\":{\"id\":\"5931\"},\"view\":{\"id\":\"5930\"}},\"id\":\"5929\",\"type\":\"GlyphRenderer\"},{\"attributes\":{},\"id\":\"5958\",\"type\":\"Selection\"},{\"attributes\":{\"children\":[{\"id\":\"5852\"},{\"id\":\"5855\"},{\"id\":\"5968\"}],\"margin\":[0,0,0,0],\"name\":\"Row04838\",\"tags\":[\"embedded\"]},\"id\":\"5851\",\"type\":\"Row\"},{\"attributes\":{\"bottom\":{\"field\":\"bottom\"},\"fill_alpha\":{\"value\":1.0},\"fill_color\":{\"field\":\"box_fill_color\",\"transform\":{\"id\":\"5923\"}},\"hatch_alpha\":{\"value\":1.0},\"hatch_color\":{\"value\":\"black\"},\"hatch_scale\":{\"value\":12.0},\"hatch_weight\":{\"value\":1.0},\"line_alpha\":{\"value\":1.0},\"line_cap\":{\"value\":\"butt\"},\"line_color\":{\"value\":\"black\"},\"line_dash\":{\"value\":[]},\"line_dash_offset\":{\"value\":0},\"line_join\":{\"value\":\"bevel\"},\"line_width\":{\"value\":1},\"top\":{\"field\":\"top\"},\"width\":{\"value\":0.7},\"x\":{\"field\":\"index\"}},\"id\":\"5931\",\"type\":\"VBar\"},{\"attributes\":{\"source\":{\"id\":\"5891\"}},\"id\":\"5897\",\"type\":\"CDSView\"},{\"attributes\":{\"data\":{\"bottom\":{\"__ndarray__\":\"6/v3Q6UpO0BbknM2/Dk6QA==\",\"dtype\":\"float64\",\"order\":\"little\",\"shape\":[2]},\"box_fill_color\":[\"Men\",\"Women\"],\"index\":[\"Men\",\"Women\"],\"top\":{\"__ndarray__\":\"MmSwZrGjOkBkKU+L3aI5QA==\",\"dtype\":\"float64\",\"order\":\"little\",\"shape\":[2]}},\"selected\":{\"id\":\"5966\"},\"selection_policy\":{\"id\":\"5965\"}},\"id\":\"5932\",\"type\":\"ColumnDataSource\"},{\"attributes\":{\"angle\":{\"value\":0.0},\"fill_alpha\":{\"value\":1.0},\"fill_color\":{\"value\":\"black\"},\"hatch_alpha\":{\"value\":1.0},\"hatch_color\":{\"value\":\"black\"},\"hatch_scale\":{\"value\":12.0},\"hatch_weight\":{\"value\":1.0},\"line_alpha\":{\"value\":1.0},\"line_cap\":{\"value\":\"butt\"},\"line_color\":{\"value\":\"black\"},\"line_dash\":{\"value\":[]},\"line_dash_offset\":{\"value\":0},\"line_join\":{\"value\":\"bevel\"},\"line_width\":{\"value\":1},\"size\":{\"value\":4},\"x\":{\"field\":\"index\"},\"y\":{\"field\":\"Mean_BMI\"}},\"id\":\"5890\",\"type\":\"Circle\"},{\"attributes\":{\"margin\":[5,5,5,5],\"name\":\"HSpacer04843\",\"sizing_mode\":\"stretch_width\"},\"id\":\"5968\",\"type\":\"Spacer\"},{\"attributes\":{\"line_alpha\":{\"value\":1.0},\"line_cap\":{\"value\":\"butt\"},\"line_color\":{\"value\":\"black\"},\"line_dash\":{\"value\":[]},\"line_dash_offset\":{\"value\":0},\"line_join\":{\"value\":\"bevel\"},\"line_width\":{\"value\":1},\"x0\":{\"field\":\"x0\"},\"x1\":{\"field\":\"x1\"},\"y0\":{\"field\":\"y0\"},\"y1\":{\"field\":\"y1\"}},\"id\":\"5898\",\"type\":\"Segment\"},{\"attributes\":{},\"id\":\"5959\",\"type\":\"UnionRenderers\"},{\"attributes\":{\"bottom\":{\"field\":\"bottom\"},\"fill_alpha\":{\"value\":0.1},\"fill_color\":{\"field\":\"box_fill_color\",\"transform\":{\"id\":\"5923\"}},\"hatch_alpha\":{\"value\":0.1},\"line_alpha\":{\"value\":0.1},\"top\":{\"field\":\"top\"},\"width\":{\"value\":0.7},\"x\":{\"field\":\"index\"}},\"id\":\"5935\",\"type\":\"VBar\"},{\"attributes\":{\"data\":{\"x0\":[\"Men\",\"Women\"],\"x1\":[\"Men\",\"Women\"],\"y0\":{\"__ndarray__\":\"LvpOiW++OUAKclAv8k84QA==\",\"dtype\":\"float64\",\"order\":\"little\",\"shape\":[2]},\"y1\":{\"__ndarray__\":\"MmSwZrGjOkBkKU+L3aI5QA==\",\"dtype\":\"float64\",\"order\":\"little\",\"shape\":[2]}},\"selected\":{\"id\":\"5958\"},\"selection_policy\":{\"id\":\"5957\"}},\"id\":\"5899\",\"type\":\"ColumnDataSource\"},{\"attributes\":{},\"id\":\"5960\",\"type\":\"Selection\"},{\"attributes\":{\"data\":{\"x0\":[[\"Men\",-0.2],[\"Women\",-0.2]],\"x1\":[[\"Men\",0.2],[\"Women\",0.2]],\"y0\":[25.7438894098106,24.3122891971016],\"y1\":[25.7438894098106,24.3122891971016]},\"selected\":{\"id\":\"5960\"},\"selection_policy\":{\"id\":\"5959\"}},\"id\":\"5907\",\"type\":\"ColumnDataSource\"},{\"attributes\":{\"x0\":{\"field\":\"x0\"},\"x1\":{\"field\":\"x1\"},\"y0\":{\"field\":\"y0\"},\"y1\":{\"field\":\"y1\"}},\"id\":\"5901\",\"type\":\"Segment\"},{\"attributes\":{\"coordinates\":null,\"data_source\":{\"id\":\"5891\"},\"glyph\":{\"id\":\"5893\"},\"group\":null,\"hover_glyph\":null,\"muted_glyph\":{\"id\":\"5895\"},\"nonselection_glyph\":{\"id\":\"5894\"},\"selection_glyph\":{\"id\":\"5898\"},\"view\":{\"id\":\"5897\"}},\"id\":\"5896\",\"type\":\"GlyphRenderer\"},{\"attributes\":{\"bottom_units\":\"screen\",\"coordinates\":null,\"fill_alpha\":0.5,\"fill_color\":\"lightgrey\",\"group\":null,\"left_units\":\"screen\",\"level\":\"overlay\",\"line_alpha\":1.0,\"line_color\":\"black\",\"line_dash\":[4,4],\"line_width\":2,\"right_units\":\"screen\",\"syncable\":false,\"top_units\":\"screen\"},\"id\":\"5876\",\"type\":\"BoxAnnotation\"},{\"attributes\":{\"data\":{\"x0\":[\"Men\",\"Women\"],\"x1\":[\"Men\",\"Women\"],\"y0\":{\"__ndarray__\":\"VGsX+itlPEC6oYexXCc8QA==\",\"dtype\":\"float64\",\"order\":\"little\",\"shape\":[2]},\"y1\":{\"__ndarray__\":\"4Ec4tvl5O0DmVzj4H7c6QA==\",\"dtype\":\"float64\",\"order\":\"little\",\"shape\":[2]}},\"selected\":{\"id\":\"5956\"},\"selection_policy\":{\"id\":\"5955\"}},\"id\":\"5891\",\"type\":\"ColumnDataSource\"},{\"attributes\":{\"line_alpha\":{\"value\":0.1},\"x0\":{\"field\":\"x0\"},\"x1\":{\"field\":\"x1\"},\"y0\":{\"field\":\"y0\"},\"y1\":{\"field\":\"y1\"}},\"id\":\"5894\",\"type\":\"Segment\"},{\"attributes\":{\"line_alpha\":{\"value\":0.2},\"x0\":{\"field\":\"x0\"},\"x1\":{\"field\":\"x1\"},\"y0\":{\"field\":\"y0\"},\"y1\":{\"field\":\"y1\"}},\"id\":\"5903\",\"type\":\"Segment\"},{\"attributes\":{\"source\":{\"id\":\"5899\"}},\"id\":\"5905\",\"type\":\"CDSView\"},{\"attributes\":{\"bottom\":{\"field\":\"bottom\"},\"fill_alpha\":{\"value\":0.2},\"fill_color\":{\"field\":\"box_fill_color\",\"transform\":{\"id\":\"5923\"}},\"hatch_alpha\":{\"value\":0.2},\"line_alpha\":{\"value\":0.2},\"top\":{\"field\":\"top\"},\"width\":{\"value\":0.7},\"x\":{\"field\":\"index\"}},\"id\":\"5928\",\"type\":\"VBar\"},{\"attributes\":{\"fill_color\":{\"value\":\"black\"},\"x\":{\"field\":\"index\"},\"y\":{\"field\":\"Mean_BMI\"}},\"id\":\"5885\",\"type\":\"Circle\"},{\"attributes\":{},\"id\":\"5961\",\"type\":\"UnionRenderers\"},{\"attributes\":{\"bottom\":{\"field\":\"bottom\"},\"fill_alpha\":{\"value\":0.2},\"fill_color\":{\"field\":\"box_fill_color\",\"transform\":{\"id\":\"5923\"}},\"hatch_alpha\":{\"value\":0.2},\"line_alpha\":{\"value\":0.2},\"top\":{\"field\":\"top\"},\"width\":{\"value\":0.7},\"x\":{\"field\":\"index\"}},\"id\":\"5936\",\"type\":\"VBar\"},{\"attributes\":{\"line_alpha\":{\"value\":0.2},\"x0\":{\"field\":\"x0\"},\"x1\":{\"field\":\"x1\"},\"y0\":{\"field\":\"y0\"},\"y1\":{\"field\":\"y1\"}},\"id\":\"5919\",\"type\":\"Segment\"},{\"attributes\":{\"line_alpha\":{\"value\":1.0},\"line_cap\":{\"value\":\"butt\"},\"line_color\":{\"value\":\"black\"},\"line_dash\":{\"value\":[]},\"line_dash_offset\":{\"value\":0},\"line_join\":{\"value\":\"bevel\"},\"line_width\":{\"value\":1},\"x0\":{\"field\":\"x0\"},\"x1\":{\"field\":\"x1\"},\"y0\":{\"field\":\"y0\"},\"y1\":{\"field\":\"y1\"}},\"id\":\"5906\",\"type\":\"Segment\"},{\"attributes\":{\"data\":{\"x0\":[[\"Men\",-0.2],[\"Women\",-0.2]],\"x1\":[[\"Men\",0.2],[\"Women\",0.2]],\"y0\":[28.3952022845436,28.1537581401951],\"y1\":[28.3952022845436,28.1537581401951]},\"selected\":{\"id\":\"5962\"},\"selection_policy\":{\"id\":\"5961\"}},\"id\":\"5915\",\"type\":\"ColumnDataSource\"},{\"attributes\":{},\"id\":\"5962\",\"type\":\"Selection\"},{\"attributes\":{},\"id\":\"5942\",\"type\":\"AllLabels\"},{\"attributes\":{\"x0\":{\"field\":\"x0\"},\"x1\":{\"field\":\"x1\"},\"y0\":{\"field\":\"y0\"},\"y1\":{\"field\":\"y1\"}},\"id\":\"5909\",\"type\":\"Segment\"},{\"attributes\":{\"source\":{\"id\":\"5883\"}},\"id\":\"5889\",\"type\":\"CDSView\"},{\"attributes\":{\"coordinates\":null,\"data_source\":{\"id\":\"5899\"},\"glyph\":{\"id\":\"5901\"},\"group\":null,\"hover_glyph\":null,\"muted_glyph\":{\"id\":\"5903\"},\"nonselection_glyph\":{\"id\":\"5902\"},\"selection_glyph\":{\"id\":\"5906\"},\"view\":{\"id\":\"5905\"}},\"id\":\"5904\",\"type\":\"GlyphRenderer\"},{\"attributes\":{\"bottom\":{\"field\":\"bottom\"},\"fill_color\":{\"field\":\"box_fill_color\",\"transform\":{\"id\":\"5923\"}},\"top\":{\"field\":\"top\"},\"width\":{\"value\":0.7},\"x\":{\"field\":\"index\"}},\"id\":\"5934\",\"type\":\"VBar\"},{\"attributes\":{\"line_alpha\":{\"value\":0.1},\"x0\":{\"field\":\"x0\"},\"x1\":{\"field\":\"x1\"},\"y0\":{\"field\":\"y0\"},\"y1\":{\"field\":\"y1\"}},\"id\":\"5902\",\"type\":\"Segment\"},{\"attributes\":{\"line_alpha\":{\"value\":0.2},\"x0\":{\"field\":\"x0\"},\"x1\":{\"field\":\"x1\"},\"y0\":{\"field\":\"y0\"},\"y1\":{\"field\":\"y1\"}},\"id\":\"5911\",\"type\":\"Segment\"},{\"attributes\":{\"end\":29.45458202438346,\"reset_end\":29.45458202438346,\"reset_start\":23.30640407631594,\"start\":23.30640407631594,\"tags\":[[[\"Mean BMI\",\"Mean BMI\",null]]]},\"id\":\"5854\",\"type\":\"Range1d\"},{\"attributes\":{},\"id\":\"5862\",\"type\":\"LinearScale\"},{\"attributes\":{\"data\":{\"Mean BMI\":{\"__ndarray__\":\"sYwov5nRN0A3qgY9NvE8QA==\",\"dtype\":\"float64\",\"order\":\"little\",\"shape\":[2]},\"Mean_BMI\":{\"__ndarray__\":\"\",\"dtype\":\"float64\",\"order\":\"little\",\"shape\":[0]},\"index\":[\"Women\",\"Women\"]},\"selected\":{\"id\":\"5954\"},\"selection_policy\":{\"id\":\"5953\"}},\"id\":\"5883\",\"type\":\"ColumnDataSource\"},{\"attributes\":{},\"id\":\"5963\",\"type\":\"UnionRenderers\"},{\"attributes\":{\"line_alpha\":{\"value\":0.2},\"x0\":{\"field\":\"x0\"},\"x1\":{\"field\":\"x1\"},\"y0\":{\"field\":\"y0\"},\"y1\":{\"field\":\"y1\"}},\"id\":\"5895\",\"type\":\"Segment\"},{\"attributes\":{},\"id\":\"5964\",\"type\":\"Selection\"},{\"attributes\":{\"below\":[{\"id\":\"5864\"}],\"center\":[{\"id\":\"5866\"},{\"id\":\"5870\"}],\"height\":500,\"left\":[{\"id\":\"5867\"}],\"margin\":[5,5,5,5],\"min_border_bottom\":10,\"min_border_left\":10,\"min_border_right\":10,\"min_border_top\":10,\"renderers\":[{\"id\":\"5888\"},{\"id\":\"5896\"},{\"id\":\"5904\"},{\"id\":\"5912\"},{\"id\":\"5920\"},{\"id\":\"5929\"},{\"id\":\"5937\"}],\"sizing_mode\":\"fixed\",\"title\":{\"id\":\"5856\"},\"toolbar\":{\"id\":\"5877\"},\"width\":500,\"x_range\":{\"id\":\"5853\"},\"x_scale\":{\"id\":\"5860\"},\"y_range\":{\"id\":\"5854\"},\"y_scale\":{\"id\":\"5862\"}},\"id\":\"5855\",\"subtype\":\"Figure\",\"type\":\"Plot\"},{\"attributes\":{\"coordinates\":null,\"group\":null,\"text\":\"Boxplot of BMI per Sex\",\"text_color\":\"black\",\"text_font_size\":\"12pt\"},\"id\":\"5856\",\"type\":\"Title\"},{\"attributes\":{},\"id\":\"5860\",\"type\":\"CategoricalScale\"},{\"attributes\":{\"source\":{\"id\":\"5907\"}},\"id\":\"5913\",\"type\":\"CDSView\"},{\"attributes\":{},\"id\":\"5872\",\"type\":\"PanTool\"},{\"attributes\":{\"line_alpha\":{\"value\":0.1},\"x0\":{\"field\":\"x0\"},\"x1\":{\"field\":\"x1\"},\"y0\":{\"field\":\"y0\"},\"y1\":{\"field\":\"y1\"}},\"id\":\"5918\",\"type\":\"Segment\"},{\"attributes\":{},\"id\":\"5953\",\"type\":\"UnionRenderers\"},{\"attributes\":{},\"id\":\"5954\",\"type\":\"Selection\"},{\"attributes\":{\"coordinates\":null,\"data_source\":{\"id\":\"5915\"},\"glyph\":{\"id\":\"5917\"},\"group\":null,\"hover_glyph\":null,\"muted_glyph\":{\"id\":\"5919\"},\"nonselection_glyph\":{\"id\":\"5918\"},\"selection_glyph\":{\"id\":\"5922\"},\"view\":{\"id\":\"5921\"}},\"id\":\"5920\",\"type\":\"GlyphRenderer\"},{\"attributes\":{\"line_alpha\":{\"value\":1.0},\"line_cap\":{\"value\":\"butt\"},\"line_color\":{\"value\":\"black\"},\"line_dash\":{\"value\":[]},\"line_dash_offset\":{\"value\":0},\"line_join\":{\"value\":\"bevel\"},\"line_width\":{\"value\":1},\"x0\":{\"field\":\"x0\"},\"x1\":{\"field\":\"x1\"},\"y0\":{\"field\":\"y0\"},\"y1\":{\"field\":\"y1\"}},\"id\":\"5914\",\"type\":\"Segment\"},{\"attributes\":{\"coordinates\":null,\"data_source\":{\"id\":\"5932\"},\"glyph\":{\"id\":\"5934\"},\"group\":null,\"hover_glyph\":null,\"muted_glyph\":{\"id\":\"5936\"},\"nonselection_glyph\":{\"id\":\"5935\"},\"selection_glyph\":{\"id\":\"5939\"},\"view\":{\"id\":\"5938\"}},\"id\":\"5937\",\"type\":\"GlyphRenderer\"},{\"attributes\":{\"line_alpha\":{\"value\":1.0},\"line_cap\":{\"value\":\"butt\"},\"line_color\":{\"value\":\"black\"},\"line_dash\":{\"value\":[]},\"line_dash_offset\":{\"value\":0},\"line_join\":{\"value\":\"bevel\"},\"line_width\":{\"value\":1},\"x0\":{\"field\":\"x0\"},\"x1\":{\"field\":\"x1\"},\"y0\":{\"field\":\"y0\"},\"y1\":{\"field\":\"y1\"}},\"id\":\"5922\",\"type\":\"Segment\"},{\"attributes\":{},\"id\":\"5945\",\"type\":\"AllLabels\"},{\"attributes\":{\"axis\":{\"id\":\"5864\"},\"coordinates\":null,\"grid_line_color\":null,\"group\":null,\"ticker\":null},\"id\":\"5866\",\"type\":\"Grid\"},{\"attributes\":{\"axis_label\":\"Sex\",\"coordinates\":null,\"formatter\":{\"id\":\"5941\"},\"group\":null,\"major_label_policy\":{\"id\":\"5942\"},\"ticker\":{\"id\":\"5865\"}},\"id\":\"5864\",\"type\":\"CategoricalAxis\"},{\"attributes\":{},\"id\":\"5965\",\"type\":\"UnionRenderers\"},{\"attributes\":{\"source\":{\"id\":\"5915\"}},\"id\":\"5921\",\"type\":\"CDSView\"},{\"attributes\":{\"factors\":[\"Men\",\"Women\"],\"tags\":[[[\"Sex\",\"Sex\",null]]]},\"id\":\"5853\",\"type\":\"FactorRange\"},{\"attributes\":{\"coordinates\":null,\"data_source\":{\"id\":\"5907\"},\"glyph\":{\"id\":\"5909\"},\"group\":null,\"hover_glyph\":null,\"muted_glyph\":{\"id\":\"5911\"},\"nonselection_glyph\":{\"id\":\"5910\"},\"selection_glyph\":{\"id\":\"5914\"},\"view\":{\"id\":\"5913\"}},\"id\":\"5912\",\"type\":\"GlyphRenderer\"},{\"attributes\":{},\"id\":\"5966\",\"type\":\"Selection\"},{\"attributes\":{},\"id\":\"5865\",\"type\":\"CategoricalTicker\"},{\"attributes\":{\"source\":{\"id\":\"5932\"}},\"id\":\"5938\",\"type\":\"CDSView\"},{\"attributes\":{\"fill_alpha\":{\"value\":0.1},\"fill_color\":{\"value\":\"black\"},\"hatch_alpha\":{\"value\":0.1},\"line_alpha\":{\"value\":0.1},\"x\":{\"field\":\"index\"},\"y\":{\"field\":\"Mean_BMI\"}},\"id\":\"5886\",\"type\":\"Circle\"},{\"attributes\":{\"line_alpha\":{\"value\":0.1},\"x0\":{\"field\":\"x0\"},\"x1\":{\"field\":\"x1\"},\"y0\":{\"field\":\"y0\"},\"y1\":{\"field\":\"y1\"}},\"id\":\"5910\",\"type\":\"Segment\"},{\"attributes\":{\"bottom\":{\"field\":\"bottom\"},\"fill_alpha\":{\"value\":1.0},\"fill_color\":{\"field\":\"box_fill_color\",\"transform\":{\"id\":\"5923\"}},\"hatch_alpha\":{\"value\":1.0},\"hatch_color\":{\"value\":\"black\"},\"hatch_scale\":{\"value\":12.0},\"hatch_weight\":{\"value\":1.0},\"line_alpha\":{\"value\":1.0},\"line_cap\":{\"value\":\"butt\"},\"line_color\":{\"value\":\"black\"},\"line_dash\":{\"value\":[]},\"line_dash_offset\":{\"value\":0},\"line_join\":{\"value\":\"bevel\"},\"line_width\":{\"value\":1},\"top\":{\"field\":\"top\"},\"width\":{\"value\":0.7},\"x\":{\"field\":\"index\"}},\"id\":\"5939\",\"type\":\"VBar\"},{\"attributes\":{\"bottom\":{\"field\":\"bottom\"},\"fill_alpha\":{\"value\":0.1},\"fill_color\":{\"field\":\"box_fill_color\",\"transform\":{\"id\":\"5923\"}},\"hatch_alpha\":{\"value\":0.1},\"line_alpha\":{\"value\":0.1},\"top\":{\"field\":\"top\"},\"width\":{\"value\":0.7},\"x\":{\"field\":\"index\"}},\"id\":\"5927\",\"type\":\"VBar\"},{\"attributes\":{\"axis_label\":\"Mean BMI\",\"coordinates\":null,\"formatter\":{\"id\":\"5944\"},\"group\":null,\"major_label_policy\":{\"id\":\"5945\"},\"ticker\":{\"id\":\"5868\"}},\"id\":\"5867\",\"type\":\"LinearAxis\"},{\"attributes\":{\"tools\":[{\"id\":\"5871\"},{\"id\":\"5872\"},{\"id\":\"5873\"},{\"id\":\"5874\"},{\"id\":\"5875\"}]},\"id\":\"5877\",\"type\":\"Toolbar\"},{\"attributes\":{\"axis\":{\"id\":\"5867\"},\"coordinates\":null,\"dimension\":1,\"grid_line_color\":null,\"group\":null,\"ticker\":null},\"id\":\"5870\",\"type\":\"Grid\"},{\"attributes\":{\"bottom\":{\"field\":\"bottom\"},\"fill_color\":{\"field\":\"box_fill_color\",\"transform\":{\"id\":\"5923\"}},\"top\":{\"field\":\"top\"},\"width\":{\"value\":0.7},\"x\":{\"field\":\"index\"}},\"id\":\"5926\",\"type\":\"VBar\"},{\"attributes\":{},\"id\":\"5868\",\"type\":\"BasicTicker\"},{\"attributes\":{},\"id\":\"5873\",\"type\":\"WheelZoomTool\"},{\"attributes\":{\"x0\":{\"field\":\"x0\"},\"x1\":{\"field\":\"x1\"},\"y0\":{\"field\":\"y0\"},\"y1\":{\"field\":\"y1\"}},\"id\":\"5917\",\"type\":\"Segment\"},{\"attributes\":{\"x0\":{\"field\":\"x0\"},\"x1\":{\"field\":\"x1\"},\"y0\":{\"field\":\"y0\"},\"y1\":{\"field\":\"y1\"}},\"id\":\"5893\",\"type\":\"Segment\"},{\"attributes\":{},\"id\":\"5955\",\"type\":\"UnionRenderers\"}],\"root_ids\":[\"5851\"]},\"title\":\"Bokeh Application\",\"version\":\"2.4.3\"}};\n",
       "    var render_items = [{\"docid\":\"8e14171c-29d2-4b20-b38a-7ae2b2d46505\",\"root_ids\":[\"5851\"],\"roots\":{\"5851\":\"dc1ced57-9e78-44fc-9ae7-a7243e0811c1\"}}];\n",
       "    root.Bokeh.embed.embed_items_notebook(docs_json, render_items);\n",
       "  }\n",
       "  if (root.Bokeh !== undefined && root.Bokeh.Panel !== undefined) {\n",
       "    embed_document(root);\n",
       "  } else {\n",
       "    var attempts = 0;\n",
       "    var timer = setInterval(function(root) {\n",
       "      if (root.Bokeh !== undefined && root.Bokeh.Panel !== undefined) {\n",
       "        clearInterval(timer);\n",
       "        embed_document(root);\n",
       "      } else if (document.readyState == \"complete\") {\n",
       "        attempts++;\n",
       "        if (attempts > 200) {\n",
       "          clearInterval(timer);\n",
       "          console.log(\"Bokeh: ERROR: Unable to run BokehJS code because BokehJS library is missing\");\n",
       "        }\n",
       "      }\n",
       "    }, 25, root)\n",
       "  }\n",
       "})(window);</script>"
      ],
      "text/plain": [
       ":BoxWhisker   [Sex]   (Mean BMI)"
      ]
     },
     "execution_count": 254,
     "metadata": {
      "application/vnd.holoviews_exec.v0+json": {
       "id": "5851"
      }
     },
     "output_type": "execute_result"
    }
   ],
   "source": [
    "boxplot = df_merged.hvplot.box(y='Mean BMI',\n",
    "                               by='Sex',\n",
    "                               width=500,\n",
    "                               height=500,\n",
    "                               title='Boxplot of BMI per Sex',\n",
    "                               color='Sex',\n",
    "                               cmap=['dodgerblue', 'violet'],\n",
    "                               legend=False)\n",
    "# print(help(pd.DataFrame.hvplot.box))\n",
    "boxplot\n",
    "# sns.set(style=\"darkgrid\")  # add grids to plot\n",
    "# sns.boxplot(x='Mean BMI', y='Sex', data=df_merged,\n",
    "#                           palette={'Men': 'dodgerblue', 'Women': 'violet'})\n",
    "# sns.title('Boxplot of mean BMI per sex')\n",
    "# plt.show()"
   ]
  },
  {
   "attachments": {},
   "cell_type": "markdown",
   "metadata": {},
   "source": [
    "As visualised above, the Mean BMI data shows a nice distribution for both genders. Neither men nor women show outliers. The data of men is a bit higher in all quartiles, and therefor also has a higher median. The women data has a higher variance compared to men."
   ]
  },
  {
   "attachments": {},
   "cell_type": "markdown",
   "metadata": {},
   "source": [
    "## 5. Statistical analysis"
   ]
  },
  {
   "attachments": {},
   "cell_type": "markdown",
   "metadata": {},
   "source": [
    "For the statistical analysis the relationship between BMI and the affordability of a healthy diet is analysed. To get a graphical overview, both data are plotted on a map to see if there is visually a noticebly difference."
   ]
  },
  {
   "cell_type": "code",
   "execution_count": 279,
   "metadata": {},
   "outputs": [
    {
     "ename": "AttributeError",
     "evalue": "partially initialized module 'fiona' has no attribute '_loading' (most likely due to a circular import)",
     "output_type": "error",
     "traceback": [
      "\u001b[0;31m---------------------------------------------------------------------------\u001b[0m",
      "\u001b[0;31mAttributeError\u001b[0m                            Traceback (most recent call last)",
      "\u001b[1;32m/homes/jmaathuis/Documents/DSLS/Programming_1/Affordability_healthy_diet_and_BMI/final_assignment.ipynb Cell 51\u001b[0m in \u001b[0;36m<cell line: 1>\u001b[0;34m()\u001b[0m\n\u001b[0;32m----> <a href='vscode-notebook-cell://ssh-remote%2Bassemblix/homes/jmaathuis/Documents/DSLS/Programming_1/Affordability_healthy_diet_and_BMI/final_assignment.ipynb#Y135sdnNjb2RlLXJlbW90ZQ%3D%3D?line=0'>1</a>\u001b[0m \u001b[39mimport\u001b[39;00m \u001b[39mgeopandas\u001b[39;00m \u001b[39mas\u001b[39;00m \u001b[39mgpd\u001b[39;00m\n",
      "File \u001b[0;32m/commons/conda/dsls/lib/python3.10/site-packages/geopandas/__init__.py:7\u001b[0m, in \u001b[0;36m<module>\u001b[0;34m\u001b[0m\n\u001b[1;32m      4\u001b[0m \u001b[39mfrom\u001b[39;00m \u001b[39mgeopandas\u001b[39;00m\u001b[39m.\u001b[39;00m\u001b[39mgeodataframe\u001b[39;00m \u001b[39mimport\u001b[39;00m GeoDataFrame  \u001b[39m# noqa\u001b[39;00m\n\u001b[1;32m      5\u001b[0m \u001b[39mfrom\u001b[39;00m \u001b[39mgeopandas\u001b[39;00m\u001b[39m.\u001b[39;00m\u001b[39marray\u001b[39;00m \u001b[39mimport\u001b[39;00m points_from_xy  \u001b[39m# noqa\u001b[39;00m\n\u001b[0;32m----> 7\u001b[0m \u001b[39mfrom\u001b[39;00m \u001b[39mgeopandas\u001b[39;00m\u001b[39m.\u001b[39;00m\u001b[39mio\u001b[39;00m\u001b[39m.\u001b[39;00m\u001b[39mfile\u001b[39;00m \u001b[39mimport\u001b[39;00m _read_file \u001b[39mas\u001b[39;00m read_file  \u001b[39m# noqa\u001b[39;00m\n\u001b[1;32m      8\u001b[0m \u001b[39mfrom\u001b[39;00m \u001b[39mgeopandas\u001b[39;00m\u001b[39m.\u001b[39;00m\u001b[39mio\u001b[39;00m\u001b[39m.\u001b[39;00m\u001b[39marrow\u001b[39;00m \u001b[39mimport\u001b[39;00m _read_parquet \u001b[39mas\u001b[39;00m read_parquet  \u001b[39m# noqa\u001b[39;00m\n\u001b[1;32m      9\u001b[0m \u001b[39mfrom\u001b[39;00m \u001b[39mgeopandas\u001b[39;00m\u001b[39m.\u001b[39;00m\u001b[39mio\u001b[39;00m\u001b[39m.\u001b[39;00m\u001b[39marrow\u001b[39;00m \u001b[39mimport\u001b[39;00m _read_feather \u001b[39mas\u001b[39;00m read_feather  \u001b[39m# noqa\u001b[39;00m\n",
      "File \u001b[0;32m/commons/conda/dsls/lib/python3.10/site-packages/geopandas/io/file.py:12\u001b[0m, in \u001b[0;36m<module>\u001b[0;34m\u001b[0m\n\u001b[1;32m      9\u001b[0m \u001b[39mfrom\u001b[39;00m \u001b[39mshapely\u001b[39;00m\u001b[39m.\u001b[39;00m\u001b[39mgeometry\u001b[39;00m\u001b[39m.\u001b[39;00m\u001b[39mbase\u001b[39;00m \u001b[39mimport\u001b[39;00m BaseGeometry\n\u001b[1;32m     11\u001b[0m \u001b[39mtry\u001b[39;00m:\n\u001b[0;32m---> 12\u001b[0m     \u001b[39mimport\u001b[39;00m \u001b[39mfiona\u001b[39;00m\n\u001b[1;32m     14\u001b[0m     fiona_import_error \u001b[39m=\u001b[39m \u001b[39mNone\u001b[39;00m\n\u001b[1;32m     15\u001b[0m \u001b[39mexcept\u001b[39;00m \u001b[39mImportError\u001b[39;00m \u001b[39mas\u001b[39;00m err:\n",
      "File \u001b[0;32m/commons/conda/dsls/lib/python3.10/site-packages/fiona/__init__.py:85\u001b[0m, in \u001b[0;36m<module>\u001b[0;34m\u001b[0m\n\u001b[1;32m     82\u001b[0m     os\u001b[39m.\u001b[39menviron[\u001b[39m\"\u001b[39m\u001b[39mPATH\u001b[39m\u001b[39m\"\u001b[39m] \u001b[39m=\u001b[39m os\u001b[39m.\u001b[39menviron[\u001b[39m\"\u001b[39m\u001b[39mPATH\u001b[39m\u001b[39m\"\u001b[39m] \u001b[39m+\u001b[39m \u001b[39m\"\u001b[39m\u001b[39m;\u001b[39m\u001b[39m\"\u001b[39m \u001b[39m+\u001b[39m libdir\n\u001b[1;32m     84\u001b[0m \u001b[39mimport\u001b[39;00m \u001b[39mfiona\u001b[39;00m\u001b[39m.\u001b[39;00m\u001b[39m_loading\u001b[39;00m\n\u001b[0;32m---> 85\u001b[0m \u001b[39mwith\u001b[39;00m fiona\u001b[39m.\u001b[39;49m_loading\u001b[39m.\u001b[39madd_gdal_dll_directories():\n\u001b[1;32m     86\u001b[0m     \u001b[39mfrom\u001b[39;00m \u001b[39mfiona\u001b[39;00m\u001b[39m.\u001b[39;00m\u001b[39mcollection\u001b[39;00m \u001b[39mimport\u001b[39;00m BytesCollection, Collection\n\u001b[1;32m     87\u001b[0m     \u001b[39mfrom\u001b[39;00m \u001b[39mfiona\u001b[39;00m\u001b[39m.\u001b[39;00m\u001b[39mdrvsupport\u001b[39;00m \u001b[39mimport\u001b[39;00m supported_drivers\n",
      "\u001b[0;31mAttributeError\u001b[0m: partially initialized module 'fiona' has no attribute '_loading' (most likely due to a circular import)"
     ]
    }
   ],
   "source": [
    "import geopandas as gpd"
   ]
  },
  {
   "cell_type": "code",
   "execution_count": 258,
   "metadata": {},
   "outputs": [
    {
     "data": {
      "image/png": "[encoded data removed]",
      "text/plain": [
       "<Figure size 640x480 with 1 Axes>"
      ]
     },
     "metadata": {},
     "output_type": "display_data"
    }
   ],
   "source": [
    "plt.plot(df_merged['Mean BMI'], df_merged['Affordability of a healthy diet'], 'o')\n",
    "plt.show()"
   ]
  }
 ],
 "metadata": {
  "kernelspec": {
   "display_name": "Python 3",
   "language": "python",
   "name": "python3"
  },
  "language_info": {
   "codemirror_mode": {
    "name": "ipython",
    "version": 3
   },
   "file_extension": ".py",
   "mimetype": "text/x-python",
   "name": "python",
   "nbconvert_exporter": "python",
   "pygments_lexer": "ipython3",
   "version": "3.10.8"
  },
  "orig_nbformat": 4,
  "vscode": {
   "interpreter": {
    "hash": "6b91fa5cffef32cb10787a50fea9666676a7951181e01280b4644cd70c964bf4"
   }
  }
 },
 "nbformat": 4,
 "nbformat_minor": 2
}
