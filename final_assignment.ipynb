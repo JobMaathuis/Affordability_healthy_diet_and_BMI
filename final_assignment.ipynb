{
 "cells": [
  {
   "cell_type": "code",
   "execution_count": 53,
   "metadata": {},
   "outputs": [
    {
     "data": {
      "text/html": [
       "<div class=\"bk-root\">\n",
       "        <a href=\"https://bokeh.org\" target=\"_blank\" class=\"bk-logo bk-logo-small bk-logo-notebook\"></a>\n",
       "        <span id=\"1004\">Loading BokehJS ...</span>\n",
       "    </div>\n"
      ]
     },
     "metadata": {},
     "output_type": "display_data"
    },
    {
     "data": {
      "application/javascript": "(function(root) {\n  function now() {\n    return new Date();\n  }\n\n  const force = true;\n\n  if (typeof root._bokeh_onload_callbacks === \"undefined\" || force === true) {\n    root._bokeh_onload_callbacks = [];\n    root._bokeh_is_loading = undefined;\n  }\n\nconst JS_MIME_TYPE = 'application/javascript';\n  const HTML_MIME_TYPE = 'text/html';\n  const EXEC_MIME_TYPE = 'application/vnd.bokehjs_exec.v0+json';\n  const CLASS_NAME = 'output_bokeh rendered_html';\n\n  /**\n   * Render data to the DOM node\n   */\n  function render(props, node) {\n    const script = document.createElement(\"script\");\n    node.appendChild(script);\n  }\n\n  /**\n   * Handle when an output is cleared or removed\n   */\n  function handleClearOutput(event, handle) {\n    const cell = handle.cell;\n\n    const id = cell.output_area._bokeh_element_id;\n    const server_id = cell.output_area._bokeh_server_id;\n    // Clean up Bokeh references\n    if (id != null && id in Bokeh.index) {\n      Bokeh.index[id].model.document.clear();\n      delete Bokeh.index[id];\n    }\n\n    if (server_id !== undefined) {\n      // Clean up Bokeh references\n      const cmd_clean = \"from bokeh.io.state import curstate; print(curstate().uuid_to_server['\" + server_id + \"'].get_sessions()[0].document.roots[0]._id)\";\n      cell.notebook.kernel.execute(cmd_clean, {\n        iopub: {\n          output: function(msg) {\n            const id = msg.content.text.trim();\n            if (id in Bokeh.index) {\n              Bokeh.index[id].model.document.clear();\n              delete Bokeh.index[id];\n            }\n          }\n        }\n      });\n      // Destroy server and session\n      const cmd_destroy = \"import bokeh.io.notebook as ion; ion.destroy_server('\" + server_id + \"')\";\n      cell.notebook.kernel.execute(cmd_destroy);\n    }\n  }\n\n  /**\n   * Handle when a new output is added\n   */\n  function handleAddOutput(event, handle) {\n    const output_area = handle.output_area;\n    const output = handle.output;\n\n    // limit handleAddOutput to display_data with EXEC_MIME_TYPE content only\n    if ((output.output_type != \"display_data\") || (!Object.prototype.hasOwnProperty.call(output.data, EXEC_MIME_TYPE))) {\n      return\n    }\n\n    const toinsert = output_area.element.find(\".\" + CLASS_NAME.split(' ')[0]);\n\n    if (output.metadata[EXEC_MIME_TYPE][\"id\"] !== undefined) {\n      toinsert[toinsert.length - 1].firstChild.textContent = output.data[JS_MIME_TYPE];\n      // store reference to embed id on output_area\n      output_area._bokeh_element_id = output.metadata[EXEC_MIME_TYPE][\"id\"];\n    }\n    if (output.metadata[EXEC_MIME_TYPE][\"server_id\"] !== undefined) {\n      const bk_div = document.createElement(\"div\");\n      bk_div.innerHTML = output.data[HTML_MIME_TYPE];\n      const script_attrs = bk_div.children[0].attributes;\n      for (let i = 0; i < script_attrs.length; i++) {\n        toinsert[toinsert.length - 1].firstChild.setAttribute(script_attrs[i].name, script_attrs[i].value);\n        toinsert[toinsert.length - 1].firstChild.textContent = bk_div.children[0].textContent\n      }\n      // store reference to server id on output_area\n      output_area._bokeh_server_id = output.metadata[EXEC_MIME_TYPE][\"server_id\"];\n    }\n  }\n\n  function register_renderer(events, OutputArea) {\n\n    function append_mime(data, metadata, element) {\n      // create a DOM node to render to\n      const toinsert = this.create_output_subarea(\n        metadata,\n        CLASS_NAME,\n        EXEC_MIME_TYPE\n      );\n      this.keyboard_manager.register_events(toinsert);\n      // Render to node\n      const props = {data: data, metadata: metadata[EXEC_MIME_TYPE]};\n      render(props, toinsert[toinsert.length - 1]);\n      element.append(toinsert);\n      return toinsert\n    }\n\n    /* Handle when an output is cleared or removed */\n    events.on('clear_output.CodeCell', handleClearOutput);\n    events.on('delete.Cell', handleClearOutput);\n\n    /* Handle when a new output is added */\n    events.on('output_added.OutputArea', handleAddOutput);\n\n    /**\n     * Register the mime type and append_mime function with output_area\n     */\n    OutputArea.prototype.register_mime_type(EXEC_MIME_TYPE, append_mime, {\n      /* Is output safe? */\n      safe: true,\n      /* Index of renderer in `output_area.display_order` */\n      index: 0\n    });\n  }\n\n  // register the mime type if in Jupyter Notebook environment and previously unregistered\n  if (root.Jupyter !== undefined) {\n    const events = require('base/js/events');\n    const OutputArea = require('notebook/js/outputarea').OutputArea;\n\n    if (OutputArea.prototype.mime_types().indexOf(EXEC_MIME_TYPE) == -1) {\n      register_renderer(events, OutputArea);\n    }\n  }\n  if (typeof (root._bokeh_timeout) === \"undefined\" || force === true) {\n    root._bokeh_timeout = Date.now() + 5000;\n    root._bokeh_failed_load = false;\n  }\n\n  const NB_LOAD_WARNING = {'data': {'text/html':\n     \"<div style='background-color: #fdd'>\\n\"+\n     \"<p>\\n\"+\n     \"BokehJS does not appear to have successfully loaded. If loading BokehJS from CDN, this \\n\"+\n     \"may be due to a slow or bad network connection. Possible fixes:\\n\"+\n     \"</p>\\n\"+\n     \"<ul>\\n\"+\n     \"<li>re-rerun `output_notebook()` to attempt to load from CDN again, or</li>\\n\"+\n     \"<li>use INLINE resources instead, as so:</li>\\n\"+\n     \"</ul>\\n\"+\n     \"<code>\\n\"+\n     \"from bokeh.resources import INLINE\\n\"+\n     \"output_notebook(resources=INLINE)\\n\"+\n     \"</code>\\n\"+\n     \"</div>\"}};\n\n  function display_loaded() {\n    const el = document.getElementById(\"1004\");\n    if (el != null) {\n      el.textContent = \"BokehJS is loading...\";\n    }\n    if (root.Bokeh !== undefined) {\n      if (el != null) {\n        el.textContent = \"BokehJS \" + root.Bokeh.version + \" successfully loaded.\";\n      }\n    } else if (Date.now() < root._bokeh_timeout) {\n      setTimeout(display_loaded, 100)\n    }\n  }\n\n  function run_callbacks() {\n    try {\n      root._bokeh_onload_callbacks.forEach(function(callback) {\n        if (callback != null)\n          callback();\n      });\n    } finally {\n      delete root._bokeh_onload_callbacks\n    }\n    console.debug(\"Bokeh: all callbacks have finished\");\n  }\n\n  function load_libs(css_urls, js_urls, callback) {\n    if (css_urls == null) css_urls = [];\n    if (js_urls == null) js_urls = [];\n\n    root._bokeh_onload_callbacks.push(callback);\n    if (root._bokeh_is_loading > 0) {\n      console.debug(\"Bokeh: BokehJS is being loaded, scheduling callback at\", now());\n      return null;\n    }\n    if (js_urls == null || js_urls.length === 0) {\n      run_callbacks();\n      return null;\n    }\n    console.debug(\"Bokeh: BokehJS not loaded, scheduling load and callback at\", now());\n    root._bokeh_is_loading = css_urls.length + js_urls.length;\n\n    function on_load() {\n      root._bokeh_is_loading--;\n      if (root._bokeh_is_loading === 0) {\n        console.debug(\"Bokeh: all BokehJS libraries/stylesheets loaded\");\n        run_callbacks()\n      }\n    }\n\n    function on_error(url) {\n      console.error(\"failed to load \" + url);\n    }\n\n    for (let i = 0; i < css_urls.length; i++) {\n      const url = css_urls[i];\n      const element = document.createElement(\"link\");\n      element.onload = on_load;\n      element.onerror = on_error.bind(null, url);\n      element.rel = \"stylesheet\";\n      element.type = \"text/css\";\n      element.href = url;\n      console.debug(\"Bokeh: injecting link tag for BokehJS stylesheet: \", url);\n      document.body.appendChild(element);\n    }\n\n    for (let i = 0; i < js_urls.length; i++) {\n      const url = js_urls[i];\n      const element = document.createElement('script');\n      element.onload = on_load;\n      element.onerror = on_error.bind(null, url);\n      element.async = false;\n      element.src = url;\n      console.debug(\"Bokeh: injecting script tag for BokehJS library: \", url);\n      document.head.appendChild(element);\n    }\n  };\n\n  function inject_raw_css(css) {\n    const element = document.createElement(\"style\");\n    element.appendChild(document.createTextNode(css));\n    document.body.appendChild(element);\n  }\n\n  const js_urls = [\"https://cdn.bokeh.org/bokeh/release/bokeh-2.4.3.min.js\", \"https://cdn.bokeh.org/bokeh/release/bokeh-gl-2.4.3.min.js\", \"https://cdn.bokeh.org/bokeh/release/bokeh-widgets-2.4.3.min.js\", \"https://cdn.bokeh.org/bokeh/release/bokeh-tables-2.4.3.min.js\", \"https://cdn.bokeh.org/bokeh/release/bokeh-mathjax-2.4.3.min.js\"];\n  const css_urls = [];\n\n  const inline_js = [    function(Bokeh) {\n      Bokeh.set_log_level(\"info\");\n    },\nfunction(Bokeh) {\n    }\n  ];\n\n  function run_inline_js() {\n    if (root.Bokeh !== undefined || force === true) {\n          for (let i = 0; i < inline_js.length; i++) {\n      inline_js[i].call(root, root.Bokeh);\n    }\nif (force === true) {\n        display_loaded();\n      }} else if (Date.now() < root._bokeh_timeout) {\n      setTimeout(run_inline_js, 100);\n    } else if (!root._bokeh_failed_load) {\n      console.log(\"Bokeh: BokehJS failed to load within specified timeout.\");\n      root._bokeh_failed_load = true;\n    } else if (force !== true) {\n      const cell = $(document.getElementById(\"1004\")).parents('.cell').data().cell;\n      cell.output_area.append_execute_result(NB_LOAD_WARNING)\n    }\n  }\n\n  if (root._bokeh_is_loading === 0) {\n    console.debug(\"Bokeh: BokehJS loaded, going straight to plotting\");\n    run_inline_js();\n  } else {\n    load_libs(css_urls, js_urls, function() {\n      console.debug(\"Bokeh: BokehJS plotting callback run at\", now());\n      run_inline_js();\n    });\n  }\n}(window));",
      "application/vnd.bokehjs_load.v0+json": ""
     },
     "metadata": {},
     "output_type": "display_data"
    }
   ],
   "source": [
    "import yaml\n",
    "import pandas as pd\n",
    "import numpy as np\n",
    "import re\n",
    "from bokeh.plotting import output_notebook, figure\n",
    "import seaborn as sns\n",
    "import matplotlib.pyplot as plt\n",
    "\n",
    "output_notebook()"
   ]
  },
  {
   "attachments": {},
   "cell_type": "markdown",
   "metadata": {},
   "source": [
    "## 2. Data acquisition"
   ]
  },
  {
   "attachments": {},
   "cell_type": "markdown",
   "metadata": {},
   "source": [
    "The data used in this project is obtained from two different data sources. The BMI data is obtained from https://www.ncdrisc.org/data-downloads-adiposity.html and downloaded in the csv format. This data contains out of all of the mean BMI's (with 95% confidence intervals) per country per sex, ranging from the year 1975 to 2016. In addition, the dataset contains the prevalence of certain BMI ranges (with 95% confidence intervals). For example, a person is classified as obese if the BMI is higher or equal to 30.\n",
    "\n",
    "The affordability of a healthy diet is obtained from https://databank.worldbank.org/source/food-prices-for-nutrition (select all under country, select 'Affordability of a healthy diet: ratio of cost to food expenditures' under series, select 2017 under year) and downloaded in the csv format. In this dataset the affordability of a healthy diet is defined as the ratio of the cost of a healthy diet to food expenditures. This ratio is given by country and by sex in the year 2017.\n",
    "\n",
    "Keep in mind that the BMI dataset is from the year 2017 and the healthy diet affordability dataset is from 2016. At this point in time the global BMI data is only available up to 2016 and the healthy diet data from 2017 until 2020. In this project the 2017 and 2016 will be compared. The mean BMI and heatlhy diet affordability are unlikely to change a lot from year to year and therefor are compared. However, when 2017 BMI data is available it is better to use that instead of the 2016 data."
   ]
  },
  {
   "attachments": {},
   "cell_type": "markdown",
   "metadata": {},
   "source": [
    "## 3. Loading the data"
   ]
  },
  {
   "attachments": {},
   "cell_type": "markdown",
   "metadata": {},
   "source": [
    "The dataset are loaded into a pandas dataframe using a config file"
   ]
  },
  {
   "cell_type": "code",
   "execution_count": 54,
   "metadata": {},
   "outputs": [],
   "source": [
    "# load the datafiles using a config files\n",
    "with open(\"./config.yaml\", 'r') as stream:\n",
    "    config = yaml.safe_load(stream)\n",
    "\n",
    "bmi = config['bmi']\n",
    "healthy_diet_affordability = config['food_affordability']"
   ]
  },
  {
   "attachments": {},
   "cell_type": "markdown",
   "metadata": {},
   "source": [
    "### 3.1 BMI"
   ]
  },
  {
   "cell_type": "code",
   "execution_count": 55,
   "metadata": {},
   "outputs": [
    {
     "data": {
      "text/plain": [
       "Country/Region/World                                                         object\n",
       "ISO                                                                          object\n",
       "Sex                                                                          object\n",
       "Mean BMI                                                                    float64\n",
       "Mean BMI lower 95% uncertainty interval                                     float64\n",
       "Mean BMI upper 95% uncertainty interval                                     float64\n",
       "Prevalence of BMI>=30 kg/m² (obesity)                                       float64\n",
       "Prevalence of BMI>=30 kg/m² lower 95% uncertainty interval                  float64\n",
       "Prevalence of BMI>=30 kg/m² upper 95% uncertainty interval                  float64\n",
       "Prevalence of BMI>=35 kg/m² (severe obesity)                                float64\n",
       "Prevalence of BMI>=35 kg/m² lower 95% uncertainty interval                  float64\n",
       "Prevalence of BMI>=35 kg/m² upper 95% uncertainty interval                  float64\n",
       "Prevalence of BMI<18.5 kg/m² (underweight)                                  float64\n",
       "Prevalence of BMI<18.5 kg/m² lower 95% uncertainty interval                 float64\n",
       "Prevalence of BMI<18.5 kg/m² upper 95% uncertainty interval                 float64\n",
       "Prevalence of BMI 18.5 kg/m² to <20 kg/m²                                   float64\n",
       "Prevalence of BMI 18.5 kg/m² to <20 kg/m² lower 95% uncertainty interval    float64\n",
       "Prevalence of BMI 18.5 kg/m² to <20 kg/m² upper 95% uncertainty interval    float64\n",
       "Prevalence of BMI 20 kg/m² to <25 kg/m²                                     float64\n",
       "Prevalence of BMI 20 kg/m² to <25 kg/m² lower 95% uncertainty interval      float64\n",
       "Prevalence of BMI 20 kg/m² to <25 kg/m² upper 95% uncertainty interval      float64\n",
       "Prevalence of BMI 25 kg/m² to <30 kg/m²                                     float64\n",
       "Prevalence of BMI 25 kg/m² to <30 kg/m² lower 95% uncertainty interval      float64\n",
       "Prevalence of BMI 25 kg/m² to <30 kg/m² upper 95% uncertainty interval      float64\n",
       "Prevalence of BMI 30 kg/m² to <35 kg/m²                                     float64\n",
       "Prevalence of BMI 30 kg/m² to <35 kg/m² lower 95% uncertainty interval      float64\n",
       "Prevalence of BMI 30 kg/m² to <35 kg/m² upper 95% uncertainty interval      float64\n",
       "Prevalence of BMI 35 kg/m² to <40 kg/m²                                     float64\n",
       "Prevalence of BMI 35 kg/m² to <40 kg/m² lower 95% uncertainty interval      float64\n",
       "Prevalence of BMI 35 kg/m² to <40 kg/m² upper 95% uncertainty interval      float64\n",
       "Prevalence of BMI >=40 kg/m²(morbid obesity)                                float64\n",
       "Prevalence of BMI >=40 kg/m² lower 95% uncertainty interval                 float64\n",
       "Prevalence of BMI >=40 kg/m² upper 95% uncertainty interval                 float64\n",
       "dtype: object"
      ]
     },
     "execution_count": 55,
     "metadata": {},
     "output_type": "execute_result"
    }
   ],
   "source": [
    "df_bmi = pd.read_csv(bmi, encoding='latin-1') # file uses latin-1 encoding\n",
    "df_bmi = df_bmi.astype({'Country/Region/World': str, 'ISO': str})\n",
    "df_bmi = df_bmi[df_bmi.Year == 2016]  # we only want the 2016 data\n",
    "df_bmi = df_bmi.drop(columns='Year')  # remove the year column, we only have 2016 left so redundant\n",
    "df_bmi.head()\n",
    "df_bmi.dtypes"
   ]
  },
  {
   "attachments": {},
   "cell_type": "markdown",
   "metadata": {},
   "source": [
    "Some column names are pretty long and make it inconvenient to read and work with. The next code chunk shortens these column names to make it more readible. This is done by regex and substituting some words into shorter words or removing parts of the column name."
   ]
  },
  {
   "cell_type": "code",
   "execution_count": 56,
   "metadata": {},
   "outputs": [],
   "source": [
    "# dict for patterns and replacements for the column names\n",
    "replace_dict = {'Prevalence': 'Prev', 'kg/m²': '', 'lower 95% uncertainty interval': 'lower', 'upper 95% uncertainty interval': 'upper'}\n",
    "for pattern, replacement in replace_dict.items():\n",
    "    df_bmi = df_bmi.rename(columns=lambda column: re.sub(pattern, replacement, column))  # loops trhough all of the columns and use re.sub for the replacement\n",
    "    "
   ]
  },
  {
   "cell_type": "code",
   "execution_count": 57,
   "metadata": {},
   "outputs": [
    {
     "data": {
      "text/html": [
       "<div>\n",
       "<style scoped>\n",
       "    .dataframe tbody tr th:only-of-type {\n",
       "        vertical-align: middle;\n",
       "    }\n",
       "\n",
       "    .dataframe tbody tr th {\n",
       "        vertical-align: top;\n",
       "    }\n",
       "\n",
       "    .dataframe thead th {\n",
       "        text-align: right;\n",
       "    }\n",
       "</style>\n",
       "<table border=\"1\" class=\"dataframe\">\n",
       "  <thead>\n",
       "    <tr style=\"text-align: right;\">\n",
       "      <th></th>\n",
       "      <th>Country/Region/World</th>\n",
       "      <th>ISO</th>\n",
       "      <th>Sex</th>\n",
       "      <th>Mean BMI</th>\n",
       "      <th>Mean BMI lower</th>\n",
       "      <th>Mean BMI upper</th>\n",
       "      <th>Prev of BMI&gt;=30  (obesity)</th>\n",
       "      <th>Prev of BMI&gt;=30  lower</th>\n",
       "      <th>Prev of BMI&gt;=30  upper</th>\n",
       "      <th>Prev of BMI&gt;=35  (severe obesity)</th>\n",
       "      <th>...</th>\n",
       "      <th>Prev of BMI 25  to &lt;30  upper</th>\n",
       "      <th>Prev of BMI 30  to &lt;35</th>\n",
       "      <th>Prev of BMI 30  to &lt;35  lower</th>\n",
       "      <th>Prev of BMI 30  to &lt;35  upper</th>\n",
       "      <th>Prev of BMI 35  to &lt;40</th>\n",
       "      <th>Prev of BMI 35  to &lt;40  lower</th>\n",
       "      <th>Prev of BMI 35  to &lt;40  upper</th>\n",
       "      <th>Prev of BMI &gt;=40 (morbid obesity)</th>\n",
       "      <th>Prev of BMI &gt;=40  lower</th>\n",
       "      <th>Prev of BMI &gt;=40  upper</th>\n",
       "    </tr>\n",
       "  </thead>\n",
       "  <tbody>\n",
       "    <tr>\n",
       "      <th>41</th>\n",
       "      <td>Afghanistan</td>\n",
       "      <td>AFG</td>\n",
       "      <td>Men</td>\n",
       "      <td>22.682456</td>\n",
       "      <td>20.157475</td>\n",
       "      <td>25.241857</td>\n",
       "      <td>0.033603</td>\n",
       "      <td>0.013884</td>\n",
       "      <td>0.066334</td>\n",
       "      <td>0.003314</td>\n",
       "      <td>...</td>\n",
       "      <td>0.242503</td>\n",
       "      <td>0.030290</td>\n",
       "      <td>0.011207</td>\n",
       "      <td>0.062681</td>\n",
       "      <td>0.002271</td>\n",
       "      <td>0.000310</td>\n",
       "      <td>0.007487</td>\n",
       "      <td>0.001043</td>\n",
       "      <td>0.000074</td>\n",
       "      <td>0.004265</td>\n",
       "    </tr>\n",
       "    <tr>\n",
       "      <th>83</th>\n",
       "      <td>Albania</td>\n",
       "      <td>ALB</td>\n",
       "      <td>Men</td>\n",
       "      <td>27.174471</td>\n",
       "      <td>25.975170</td>\n",
       "      <td>28.338256</td>\n",
       "      <td>0.223735</td>\n",
       "      <td>0.153334</td>\n",
       "      <td>0.300834</td>\n",
       "      <td>0.045036</td>\n",
       "      <td>...</td>\n",
       "      <td>0.515957</td>\n",
       "      <td>0.178699</td>\n",
       "      <td>0.113401</td>\n",
       "      <td>0.252200</td>\n",
       "      <td>0.037684</td>\n",
       "      <td>0.013616</td>\n",
       "      <td>0.076984</td>\n",
       "      <td>0.007352</td>\n",
       "      <td>0.001180</td>\n",
       "      <td>0.021953</td>\n",
       "    </tr>\n",
       "    <tr>\n",
       "      <th>125</th>\n",
       "      <td>Algeria</td>\n",
       "      <td>DZA</td>\n",
       "      <td>Men</td>\n",
       "      <td>24.865386</td>\n",
       "      <td>23.487321</td>\n",
       "      <td>26.220294</td>\n",
       "      <td>0.206662</td>\n",
       "      <td>0.141854</td>\n",
       "      <td>0.279979</td>\n",
       "      <td>0.042840</td>\n",
       "      <td>...</td>\n",
       "      <td>0.463570</td>\n",
       "      <td>0.163822</td>\n",
       "      <td>0.102610</td>\n",
       "      <td>0.234048</td>\n",
       "      <td>0.031750</td>\n",
       "      <td>0.011066</td>\n",
       "      <td>0.065164</td>\n",
       "      <td>0.011090</td>\n",
       "      <td>0.002289</td>\n",
       "      <td>0.029802</td>\n",
       "    </tr>\n",
       "    <tr>\n",
       "      <th>167</th>\n",
       "      <td>American Samoa</td>\n",
       "      <td>ASM</td>\n",
       "      <td>Men</td>\n",
       "      <td>33.066721</td>\n",
       "      <td>31.338678</td>\n",
       "      <td>34.662447</td>\n",
       "      <td>0.587546</td>\n",
       "      <td>0.502606</td>\n",
       "      <td>0.666355</td>\n",
       "      <td>0.322678</td>\n",
       "      <td>...</td>\n",
       "      <td>0.370043</td>\n",
       "      <td>0.264868</td>\n",
       "      <td>0.191211</td>\n",
       "      <td>0.340031</td>\n",
       "      <td>0.183871</td>\n",
       "      <td>0.109862</td>\n",
       "      <td>0.263723</td>\n",
       "      <td>0.138807</td>\n",
       "      <td>0.067651</td>\n",
       "      <td>0.223666</td>\n",
       "    </tr>\n",
       "    <tr>\n",
       "      <th>209</th>\n",
       "      <td>Andorra</td>\n",
       "      <td>AND</td>\n",
       "      <td>Men</td>\n",
       "      <td>27.478395</td>\n",
       "      <td>24.988831</td>\n",
       "      <td>30.001977</td>\n",
       "      <td>0.267498</td>\n",
       "      <td>0.186223</td>\n",
       "      <td>0.354723</td>\n",
       "      <td>0.068565</td>\n",
       "      <td>...</td>\n",
       "      <td>0.532478</td>\n",
       "      <td>0.198934</td>\n",
       "      <td>0.125035</td>\n",
       "      <td>0.280761</td>\n",
       "      <td>0.052701</td>\n",
       "      <td>0.017627</td>\n",
       "      <td>0.109639</td>\n",
       "      <td>0.015864</td>\n",
       "      <td>0.002652</td>\n",
       "      <td>0.046309</td>\n",
       "    </tr>\n",
       "  </tbody>\n",
       "</table>\n",
       "<p>5 rows × 33 columns</p>\n",
       "</div>"
      ],
      "text/plain": [
       "    Country/Region/World  ISO  Sex   Mean BMI  Mean BMI lower  Mean BMI upper  \\\n",
       "41           Afghanistan  AFG  Men  22.682456       20.157475       25.241857   \n",
       "83               Albania  ALB  Men  27.174471       25.975170       28.338256   \n",
       "125              Algeria  DZA  Men  24.865386       23.487321       26.220294   \n",
       "167       American Samoa  ASM  Men  33.066721       31.338678       34.662447   \n",
       "209              Andorra  AND  Men  27.478395       24.988831       30.001977   \n",
       "\n",
       "     Prev of BMI>=30  (obesity)  Prev of BMI>=30  lower  \\\n",
       "41                     0.033603                0.013884   \n",
       "83                     0.223735                0.153334   \n",
       "125                    0.206662                0.141854   \n",
       "167                    0.587546                0.502606   \n",
       "209                    0.267498                0.186223   \n",
       "\n",
       "     Prev of BMI>=30  upper  Prev of BMI>=35  (severe obesity)  ...  \\\n",
       "41                 0.066334                           0.003314  ...   \n",
       "83                 0.300834                           0.045036  ...   \n",
       "125                0.279979                           0.042840  ...   \n",
       "167                0.666355                           0.322678  ...   \n",
       "209                0.354723                           0.068565  ...   \n",
       "\n",
       "     Prev of BMI 25  to <30  upper  Prev of BMI 30  to <35   \\\n",
       "41                        0.242503                 0.030290   \n",
       "83                        0.515957                 0.178699   \n",
       "125                       0.463570                 0.163822   \n",
       "167                       0.370043                 0.264868   \n",
       "209                       0.532478                 0.198934   \n",
       "\n",
       "     Prev of BMI 30  to <35  lower  Prev of BMI 30  to <35  upper  \\\n",
       "41                        0.011207                       0.062681   \n",
       "83                        0.113401                       0.252200   \n",
       "125                       0.102610                       0.234048   \n",
       "167                       0.191211                       0.340031   \n",
       "209                       0.125035                       0.280761   \n",
       "\n",
       "     Prev of BMI 35  to <40   Prev of BMI 35  to <40  lower  \\\n",
       "41                  0.002271                       0.000310   \n",
       "83                  0.037684                       0.013616   \n",
       "125                 0.031750                       0.011066   \n",
       "167                 0.183871                       0.109862   \n",
       "209                 0.052701                       0.017627   \n",
       "\n",
       "     Prev of BMI 35  to <40  upper  Prev of BMI >=40 (morbid obesity)  \\\n",
       "41                        0.007487                           0.001043   \n",
       "83                        0.076984                           0.007352   \n",
       "125                       0.065164                           0.011090   \n",
       "167                       0.263723                           0.138807   \n",
       "209                       0.109639                           0.015864   \n",
       "\n",
       "     Prev of BMI >=40  lower  Prev of BMI >=40  upper  \n",
       "41                  0.000074                 0.004265  \n",
       "83                  0.001180                 0.021953  \n",
       "125                 0.002289                 0.029802  \n",
       "167                 0.067651                 0.223666  \n",
       "209                 0.002652                 0.046309  \n",
       "\n",
       "[5 rows x 33 columns]"
      ]
     },
     "execution_count": 57,
     "metadata": {},
     "output_type": "execute_result"
    }
   ],
   "source": [
    "df_bmi.head()"
   ]
  },
  {
   "attachments": {},
   "cell_type": "markdown",
   "metadata": {},
   "source": [
    "### 3.2 Affordability of a healthy diet"
   ]
  },
  {
   "cell_type": "code",
   "execution_count": 58,
   "metadata": {},
   "outputs": [],
   "source": [
    "df_healthy_diet = pd.read_csv(healthy_diet_affordability, encoding='latin-1', skipfooter=5, engine='python')  # skip last lines, does not contain data\n",
    "df_healthy_diet.drop(columns=['Classification Name', 'Classification Code', 'Time', 'Time Code'], inplace=True)  # irrelevant columns\n",
    "df_healthy_diet.rename(columns={'Affordability of a healthy diet: ratio of cost to food expenditures [CoHD_fexp]': 'Affordability of a healthy diet'}, inplace=True)\n",
    "df_healthy_diet['Affordability of a healthy diet'] = df_healthy_diet['Affordability of a healthy diet'].replace('..', np.nan)\n",
    "df_healthy_diet = df_healthy_diet.astype({'Affordability of a healthy diet': float})"
   ]
  },
  {
   "cell_type": "code",
   "execution_count": 59,
   "metadata": {},
   "outputs": [
    {
     "data": {
      "text/plain": [
       "Country Name                        object\n",
       "Country Code                        object\n",
       "Affordability of a healthy diet    float64\n",
       "dtype: object"
      ]
     },
     "execution_count": 59,
     "metadata": {},
     "output_type": "execute_result"
    }
   ],
   "source": [
    "df_healthy_diet.head()\n",
    "df_healthy_diet.dtypes"
   ]
  },
  {
   "attachments": {},
   "cell_type": "markdown",
   "metadata": {},
   "source": [
    "## 4. Data exploration"
   ]
  },
  {
   "attachments": {},
   "cell_type": "markdown",
   "metadata": {},
   "source": [
    "Before the data exploration a decision must be made wether or not the data should be merged already. This is done by seeing if there are differences in countries used in the datasets. The reasoning behind this is that he country variable the variable is on which the datasets are merged. If some countries are not shared between the datasets, the data will be omitted."
   ]
  },
  {
   "cell_type": "code",
   "execution_count": 60,
   "metadata": {},
   "outputs": [
    {
     "name": "stdout",
     "output_type": "stream",
     "text": [
      "{'KIR', 'LBN', 'MHL', 'WLD', 'VEN', 'TCA', 'PRK', 'HIC', 'SAS', 'VUT', 'ERI', 'SSF', 'CYM', 'UZB', 'PNG', 'PLW', 'VGB', 'NIU', 'SLB', 'NAC', 'AIA', 'YEM', 'MSR', 'TKL', 'TUV', 'LCN', 'SOM', 'ECS', 'FSM', 'TKM', 'COK', 'TLS', 'GTM', 'CUB', 'ABW', 'AND', 'WSM', 'GEO', 'TON', 'LMC', 'UMC', 'GRL', 'LBY', 'BON', 'AFG', 'MEA', 'PYF', 'NRU', 'SYR', 'CUW', 'ASM', 'EAS', 'UKR', 'LIC', 'SXM', 'PRI'}\n",
      "56\n"
     ]
    }
   ],
   "source": [
    "countries_bmi = df_bmi['ISO'].unique()\n",
    "countries_healthy_diet = df_healthy_diet['Country Code'].unique()\n",
    "countries_not_in_common = set(countries_bmi) ^ set(countries_healthy_diet)  # check which values are not shared\n",
    "print(countries_not_in_common)\n",
    "print(len(countries_not_in_common))"
   ]
  },
  {
   "attachments": {},
   "cell_type": "markdown",
   "metadata": {},
   "source": [
    "As can be seen above there are a lot of countries (56) which are not in common between both datasets. When merging these datasets (using inner merge) this data gets lost. Therefore it makes sense to merge the datasets before data exploration, because otherwise data exploration is done on data which is later omitted."
   ]
  },
  {
   "cell_type": "code",
   "execution_count": 61,
   "metadata": {},
   "outputs": [
    {
     "data": {
      "text/html": [
       "<div>\n",
       "<style scoped>\n",
       "    .dataframe tbody tr th:only-of-type {\n",
       "        vertical-align: middle;\n",
       "    }\n",
       "\n",
       "    .dataframe tbody tr th {\n",
       "        vertical-align: top;\n",
       "    }\n",
       "\n",
       "    .dataframe thead th {\n",
       "        text-align: right;\n",
       "    }\n",
       "</style>\n",
       "<table border=\"1\" class=\"dataframe\">\n",
       "  <thead>\n",
       "    <tr style=\"text-align: right;\">\n",
       "      <th></th>\n",
       "      <th>Country Name</th>\n",
       "      <th>Country Code</th>\n",
       "      <th>Affordability of a healthy diet</th>\n",
       "      <th>Sex</th>\n",
       "      <th>Mean BMI</th>\n",
       "      <th>Mean BMI lower</th>\n",
       "      <th>Mean BMI upper</th>\n",
       "      <th>Prev of BMI&gt;=30  (obesity)</th>\n",
       "      <th>Prev of BMI&gt;=30  lower</th>\n",
       "      <th>Prev of BMI&gt;=30  upper</th>\n",
       "      <th>...</th>\n",
       "      <th>Prev of BMI 25  to &lt;30  upper</th>\n",
       "      <th>Prev of BMI 30  to &lt;35</th>\n",
       "      <th>Prev of BMI 30  to &lt;35  lower</th>\n",
       "      <th>Prev of BMI 30  to &lt;35  upper</th>\n",
       "      <th>Prev of BMI 35  to &lt;40</th>\n",
       "      <th>Prev of BMI 35  to &lt;40  lower</th>\n",
       "      <th>Prev of BMI 35  to &lt;40  upper</th>\n",
       "      <th>Prev of BMI &gt;=40 (morbid obesity)</th>\n",
       "      <th>Prev of BMI &gt;=40  lower</th>\n",
       "      <th>Prev of BMI &gt;=40  upper</th>\n",
       "    </tr>\n",
       "  </thead>\n",
       "  <tbody>\n",
       "    <tr>\n",
       "      <th>0</th>\n",
       "      <td>Albania</td>\n",
       "      <td>ALB</td>\n",
       "      <td>0.425</td>\n",
       "      <td>Men</td>\n",
       "      <td>27.174471</td>\n",
       "      <td>25.975170</td>\n",
       "      <td>28.338256</td>\n",
       "      <td>0.223735</td>\n",
       "      <td>0.153334</td>\n",
       "      <td>0.300834</td>\n",
       "      <td>...</td>\n",
       "      <td>0.515957</td>\n",
       "      <td>0.178699</td>\n",
       "      <td>0.113401</td>\n",
       "      <td>0.252200</td>\n",
       "      <td>0.037684</td>\n",
       "      <td>0.013616</td>\n",
       "      <td>0.076984</td>\n",
       "      <td>0.007352</td>\n",
       "      <td>0.001180</td>\n",
       "      <td>0.021953</td>\n",
       "    </tr>\n",
       "    <tr>\n",
       "      <th>1</th>\n",
       "      <td>Albania</td>\n",
       "      <td>ALB</td>\n",
       "      <td>0.425</td>\n",
       "      <td>Women</td>\n",
       "      <td>26.507512</td>\n",
       "      <td>25.196840</td>\n",
       "      <td>27.859854</td>\n",
       "      <td>0.227215</td>\n",
       "      <td>0.160322</td>\n",
       "      <td>0.300595</td>\n",
       "      <td>...</td>\n",
       "      <td>0.365555</td>\n",
       "      <td>0.154878</td>\n",
       "      <td>0.096033</td>\n",
       "      <td>0.225306</td>\n",
       "      <td>0.054146</td>\n",
       "      <td>0.022398</td>\n",
       "      <td>0.100402</td>\n",
       "      <td>0.018191</td>\n",
       "      <td>0.004656</td>\n",
       "      <td>0.044692</td>\n",
       "    </tr>\n",
       "    <tr>\n",
       "      <th>2</th>\n",
       "      <td>Algeria</td>\n",
       "      <td>DZA</td>\n",
       "      <td>0.605</td>\n",
       "      <td>Men</td>\n",
       "      <td>24.865386</td>\n",
       "      <td>23.487321</td>\n",
       "      <td>26.220294</td>\n",
       "      <td>0.206662</td>\n",
       "      <td>0.141854</td>\n",
       "      <td>0.279979</td>\n",
       "      <td>...</td>\n",
       "      <td>0.463570</td>\n",
       "      <td>0.163822</td>\n",
       "      <td>0.102610</td>\n",
       "      <td>0.234048</td>\n",
       "      <td>0.031750</td>\n",
       "      <td>0.011066</td>\n",
       "      <td>0.065164</td>\n",
       "      <td>0.011090</td>\n",
       "      <td>0.002289</td>\n",
       "      <td>0.029802</td>\n",
       "    </tr>\n",
       "    <tr>\n",
       "      <th>3</th>\n",
       "      <td>Algeria</td>\n",
       "      <td>DZA</td>\n",
       "      <td>0.605</td>\n",
       "      <td>Women</td>\n",
       "      <td>26.561166</td>\n",
       "      <td>25.080506</td>\n",
       "      <td>28.031641</td>\n",
       "      <td>0.362187</td>\n",
       "      <td>0.287831</td>\n",
       "      <td>0.440170</td>\n",
       "      <td>...</td>\n",
       "      <td>0.383587</td>\n",
       "      <td>0.225826</td>\n",
       "      <td>0.155871</td>\n",
       "      <td>0.303311</td>\n",
       "      <td>0.093082</td>\n",
       "      <td>0.047469</td>\n",
       "      <td>0.152826</td>\n",
       "      <td>0.043279</td>\n",
       "      <td>0.015501</td>\n",
       "      <td>0.089878</td>\n",
       "    </tr>\n",
       "    <tr>\n",
       "      <th>4</th>\n",
       "      <td>Angola</td>\n",
       "      <td>AGO</td>\n",
       "      <td>0.972</td>\n",
       "      <td>Men</td>\n",
       "      <td>22.436538</td>\n",
       "      <td>19.732903</td>\n",
       "      <td>25.172488</td>\n",
       "      <td>0.042276</td>\n",
       "      <td>0.016349</td>\n",
       "      <td>0.081935</td>\n",
       "      <td>...</td>\n",
       "      <td>0.237444</td>\n",
       "      <td>0.035127</td>\n",
       "      <td>0.011140</td>\n",
       "      <td>0.073699</td>\n",
       "      <td>0.005868</td>\n",
       "      <td>0.000739</td>\n",
       "      <td>0.018757</td>\n",
       "      <td>0.001281</td>\n",
       "      <td>0.000033</td>\n",
       "      <td>0.006267</td>\n",
       "    </tr>\n",
       "  </tbody>\n",
       "</table>\n",
       "<p>5 rows × 34 columns</p>\n",
       "</div>"
      ],
      "text/plain": [
       "  Country Name Country Code  Affordability of a healthy diet    Sex  \\\n",
       "0      Albania          ALB                            0.425    Men   \n",
       "1      Albania          ALB                            0.425  Women   \n",
       "2      Algeria          DZA                            0.605    Men   \n",
       "3      Algeria          DZA                            0.605  Women   \n",
       "4       Angola          AGO                            0.972    Men   \n",
       "\n",
       "    Mean BMI  Mean BMI lower  Mean BMI upper  Prev of BMI>=30  (obesity)  \\\n",
       "0  27.174471       25.975170       28.338256                    0.223735   \n",
       "1  26.507512       25.196840       27.859854                    0.227215   \n",
       "2  24.865386       23.487321       26.220294                    0.206662   \n",
       "3  26.561166       25.080506       28.031641                    0.362187   \n",
       "4  22.436538       19.732903       25.172488                    0.042276   \n",
       "\n",
       "   Prev of BMI>=30  lower  Prev of BMI>=30  upper  ...  \\\n",
       "0                0.153334                0.300834  ...   \n",
       "1                0.160322                0.300595  ...   \n",
       "2                0.141854                0.279979  ...   \n",
       "3                0.287831                0.440170  ...   \n",
       "4                0.016349                0.081935  ...   \n",
       "\n",
       "   Prev of BMI 25  to <30  upper  Prev of BMI 30  to <35   \\\n",
       "0                       0.515957                 0.178699   \n",
       "1                       0.365555                 0.154878   \n",
       "2                       0.463570                 0.163822   \n",
       "3                       0.383587                 0.225826   \n",
       "4                       0.237444                 0.035127   \n",
       "\n",
       "   Prev of BMI 30  to <35  lower  Prev of BMI 30  to <35  upper  \\\n",
       "0                       0.113401                       0.252200   \n",
       "1                       0.096033                       0.225306   \n",
       "2                       0.102610                       0.234048   \n",
       "3                       0.155871                       0.303311   \n",
       "4                       0.011140                       0.073699   \n",
       "\n",
       "   Prev of BMI 35  to <40   Prev of BMI 35  to <40  lower  \\\n",
       "0                 0.037684                       0.013616   \n",
       "1                 0.054146                       0.022398   \n",
       "2                 0.031750                       0.011066   \n",
       "3                 0.093082                       0.047469   \n",
       "4                 0.005868                       0.000739   \n",
       "\n",
       "   Prev of BMI 35  to <40  upper  Prev of BMI >=40 (morbid obesity)  \\\n",
       "0                       0.076984                           0.007352   \n",
       "1                       0.100402                           0.018191   \n",
       "2                       0.065164                           0.011090   \n",
       "3                       0.152826                           0.043279   \n",
       "4                       0.018757                           0.001281   \n",
       "\n",
       "   Prev of BMI >=40  lower  Prev of BMI >=40  upper  \n",
       "0                 0.001180                 0.021953  \n",
       "1                 0.004656                 0.044692  \n",
       "2                 0.002289                 0.029802  \n",
       "3                 0.015501                 0.089878  \n",
       "4                 0.000033                 0.006267  \n",
       "\n",
       "[5 rows x 34 columns]"
      ]
     },
     "execution_count": 61,
     "metadata": {},
     "output_type": "execute_result"
    }
   ],
   "source": [
    "df_merged = df_healthy_diet.merge(right=df_bmi, \n",
    "                                  left_on='Country Code',\n",
    "                                  right_on='ISO',\n",
    "                                  how='inner')\n",
    "df_merged.drop(columns=['Country/Region/World', 'ISO'], inplace=True)  # duplicate columns that can be deleted\n",
    "df_merged.head()"
   ]
  },
  {
   "attachments": {},
   "cell_type": "markdown",
   "metadata": {},
   "source": [
    "The datasets are now merged. In the following sections general data exploration, BMI data exploration and Affordability of a healthy diet data exploration are performed."
   ]
  },
  {
   "attachments": {},
   "cell_type": "markdown",
   "metadata": {},
   "source": [
    "### 4.1 General"
   ]
  },
  {
   "cell_type": "code",
   "execution_count": 62,
   "metadata": {},
   "outputs": [
    {
     "name": "stdout",
     "output_type": "stream",
     "text": [
      "<class 'pandas.core.frame.DataFrame'>\n",
      "Int64Index: 330 entries, 0 to 329\n",
      "Data columns (total 34 columns):\n",
      " #   Column                             Non-Null Count  Dtype  \n",
      "---  ------                             --------------  -----  \n",
      " 0   Country Name                       330 non-null    object \n",
      " 1   Country Code                       330 non-null    object \n",
      " 2   Affordability of a healthy diet    322 non-null    float64\n",
      " 3   Sex                                330 non-null    object \n",
      " 4   Mean BMI                           330 non-null    float64\n",
      " 5   Mean BMI lower                     330 non-null    float64\n",
      " 6   Mean BMI upper                     330 non-null    float64\n",
      " 7   Prev of BMI>=30  (obesity)         330 non-null    float64\n",
      " 8   Prev of BMI>=30  lower             330 non-null    float64\n",
      " 9   Prev of BMI>=30  upper             330 non-null    float64\n",
      " 10  Prev of BMI>=35  (severe obesity)  330 non-null    float64\n",
      " 11  Prev of BMI>=35  lower             330 non-null    float64\n",
      " 12  Prev of BMI>=35  upper             330 non-null    float64\n",
      " 13  Prev of BMI<18.5  (underweight)    330 non-null    float64\n",
      " 14  Prev of BMI<18.5  lower            330 non-null    float64\n",
      " 15  Prev of BMI<18.5  upper            330 non-null    float64\n",
      " 16  Prev of BMI 18.5  to <20           330 non-null    float64\n",
      " 17  Prev of BMI 18.5  to <20  lower    330 non-null    float64\n",
      " 18  Prev of BMI 18.5  to <20  upper    330 non-null    float64\n",
      " 19  Prev of BMI 20  to <25             330 non-null    float64\n",
      " 20  Prev of BMI 20  to <25  lower      330 non-null    float64\n",
      " 21  Prev of BMI 20  to <25  upper      330 non-null    float64\n",
      " 22  Prev of BMI 25  to <30             330 non-null    float64\n",
      " 23  Prev of BMI 25  to <30  lower      330 non-null    float64\n",
      " 24  Prev of BMI 25  to <30  upper      330 non-null    float64\n",
      " 25  Prev of BMI 30  to <35             330 non-null    float64\n",
      " 26  Prev of BMI 30  to <35  lower      330 non-null    float64\n",
      " 27  Prev of BMI 30  to <35  upper      330 non-null    float64\n",
      " 28  Prev of BMI 35  to <40             330 non-null    float64\n",
      " 29  Prev of BMI 35  to <40  lower      330 non-null    float64\n",
      " 30  Prev of BMI 35  to <40  upper      330 non-null    float64\n",
      " 31  Prev of BMI >=40 (morbid obesity)  330 non-null    float64\n",
      " 32  Prev of BMI >=40  lower            330 non-null    float64\n",
      " 33  Prev of BMI >=40  upper            330 non-null    float64\n",
      "dtypes: float64(31), object(3)\n",
      "memory usage: 90.2+ KB\n"
     ]
    }
   ],
   "source": [
    "df_merged.info()"
   ]
  },
  {
   "attachments": {},
   "cell_type": "markdown",
   "metadata": {},
   "source": [
    "We have 330 entries left after merging. If correct, each country should have BMI data about both sexes. So data of a total of $330 / 2 = 165$  countries is remaining. This is checked in the following code chunk "
   ]
  },
  {
   "cell_type": "code",
   "execution_count": 63,
   "metadata": {},
   "outputs": [
    {
     "data": {
      "text/plain": [
       "165"
      ]
     },
     "execution_count": 63,
     "metadata": {},
     "output_type": "execute_result"
    }
   ],
   "source": [
    "df_merged['Country Name'].nunique()"
   ]
  },
  {
   "attachments": {},
   "cell_type": "markdown",
   "metadata": {},
   "source": [
    "This confirms that the dataset indeed holds data of 165 countries."
   ]
  },
  {
   "attachments": {},
   "cell_type": "markdown",
   "metadata": {},
   "source": [
    "### 4.2 BMI"
   ]
  },
  {
   "cell_type": "code",
   "execution_count": 64,
   "metadata": {},
   "outputs": [
    {
     "data": {
      "text/plain": [
       "count    330.000000\n",
       "mean      25.722590\n",
       "std        2.288288\n",
       "min       20.110440\n",
       "25%       23.834583\n",
       "50%       26.069640\n",
       "75%       27.302251\n",
       "max       31.697884\n",
       "Name: Mean BMI, dtype: float64"
      ]
     },
     "execution_count": 64,
     "metadata": {},
     "output_type": "execute_result"
    }
   ],
   "source": [
    "df_merged['Mean BMI'].describe()"
   ]
  },
  {
   "attachments": {},
   "cell_type": "markdown",
   "metadata": {},
   "source": [
    "As can be seen the mean BMI in the world using the available data is approximately 25.7. At a BMI higher or equal to 25 a person is classified as 'overweight'. This means that the mean of the population is overweight. Another interesting value is the max value, which is 31.697884. This means that this country has a mean BMI of above 30 of a certain gender. A BMI above 30 is classified as obese and therefor that country's mean population is obese."
   ]
  },
  {
   "cell_type": "code",
   "execution_count": 65,
   "metadata": {},
   "outputs": [
    {
     "data": {
      "text/html": [
       "<div>\n",
       "<style scoped>\n",
       "    .dataframe tbody tr th:only-of-type {\n",
       "        vertical-align: middle;\n",
       "    }\n",
       "\n",
       "    .dataframe tbody tr th {\n",
       "        vertical-align: top;\n",
       "    }\n",
       "\n",
       "    .dataframe thead th {\n",
       "        text-align: right;\n",
       "    }\n",
       "</style>\n",
       "<table border=\"1\" class=\"dataframe\">\n",
       "  <thead>\n",
       "    <tr style=\"text-align: right;\">\n",
       "      <th></th>\n",
       "      <th>Country Name</th>\n",
       "      <th>Country Code</th>\n",
       "      <th>Affordability of a healthy diet</th>\n",
       "      <th>Sex</th>\n",
       "      <th>Mean BMI</th>\n",
       "      <th>Mean BMI lower</th>\n",
       "      <th>Mean BMI upper</th>\n",
       "      <th>Prev of BMI&gt;=30  (obesity)</th>\n",
       "      <th>Prev of BMI&gt;=30  lower</th>\n",
       "      <th>Prev of BMI&gt;=30  upper</th>\n",
       "      <th>...</th>\n",
       "      <th>Prev of BMI 25  to &lt;30  upper</th>\n",
       "      <th>Prev of BMI 30  to &lt;35</th>\n",
       "      <th>Prev of BMI 30  to &lt;35  lower</th>\n",
       "      <th>Prev of BMI 30  to &lt;35  upper</th>\n",
       "      <th>Prev of BMI 35  to &lt;40</th>\n",
       "      <th>Prev of BMI 35  to &lt;40  lower</th>\n",
       "      <th>Prev of BMI 35  to &lt;40  upper</th>\n",
       "      <th>Prev of BMI &gt;=40 (morbid obesity)</th>\n",
       "      <th>Prev of BMI &gt;=40  lower</th>\n",
       "      <th>Prev of BMI &gt;=40  upper</th>\n",
       "    </tr>\n",
       "  </thead>\n",
       "  <tbody>\n",
       "    <tr>\n",
       "      <th>99</th>\n",
       "      <td>Egypt, Arab Rep.</td>\n",
       "      <td>EGY</td>\n",
       "      <td>0.286</td>\n",
       "      <td>Women</td>\n",
       "      <td>31.697884</td>\n",
       "      <td>31.087575</td>\n",
       "      <td>32.298419</td>\n",
       "      <td>0.424822</td>\n",
       "      <td>0.358833</td>\n",
       "      <td>0.489959</td>\n",
       "      <td>...</td>\n",
       "      <td>0.344519</td>\n",
       "      <td>0.231362</td>\n",
       "      <td>0.171594</td>\n",
       "      <td>0.292669</td>\n",
       "      <td>0.119325</td>\n",
       "      <td>0.075895</td>\n",
       "      <td>0.171071</td>\n",
       "      <td>0.074135</td>\n",
       "      <td>0.039651</td>\n",
       "      <td>0.121336</td>\n",
       "    </tr>\n",
       "  </tbody>\n",
       "</table>\n",
       "<p>1 rows × 34 columns</p>\n",
       "</div>"
      ],
      "text/plain": [
       "        Country Name Country Code  Affordability of a healthy diet    Sex  \\\n",
       "99  Egypt, Arab Rep.          EGY                            0.286  Women   \n",
       "\n",
       "     Mean BMI  Mean BMI lower  Mean BMI upper  Prev of BMI>=30  (obesity)  \\\n",
       "99  31.697884       31.087575       32.298419                    0.424822   \n",
       "\n",
       "    Prev of BMI>=30  lower  Prev of BMI>=30  upper  ...  \\\n",
       "99                0.358833                0.489959  ...   \n",
       "\n",
       "    Prev of BMI 25  to <30  upper  Prev of BMI 30  to <35   \\\n",
       "99                       0.344519                 0.231362   \n",
       "\n",
       "    Prev of BMI 30  to <35  lower  Prev of BMI 30  to <35  upper  \\\n",
       "99                       0.171594                       0.292669   \n",
       "\n",
       "    Prev of BMI 35  to <40   Prev of BMI 35  to <40  lower  \\\n",
       "99                 0.119325                       0.075895   \n",
       "\n",
       "    Prev of BMI 35  to <40  upper  Prev of BMI >=40 (morbid obesity)  \\\n",
       "99                       0.171071                           0.074135   \n",
       "\n",
       "    Prev of BMI >=40  lower  Prev of BMI >=40  upper  \n",
       "99                 0.039651                 0.121336  \n",
       "\n",
       "[1 rows x 34 columns]"
      ]
     },
     "execution_count": 65,
     "metadata": {},
     "output_type": "execute_result"
    }
   ],
   "source": [
    "df_merged[df_merged['Mean BMI'] == df_merged['Mean BMI'].max()]"
   ]
  },
  {
   "attachments": {},
   "cell_type": "markdown",
   "metadata": {},
   "source": [
    "The mean female population in egypt is obese"
   ]
  },
  {
   "cell_type": "code",
   "execution_count": 66,
   "metadata": {},
   "outputs": [
    {
     "data": {
      "text/html": [
       "<div>\n",
       "<style scoped>\n",
       "    .dataframe tbody tr th:only-of-type {\n",
       "        vertical-align: middle;\n",
       "    }\n",
       "\n",
       "    .dataframe tbody tr th {\n",
       "        vertical-align: top;\n",
       "    }\n",
       "\n",
       "    .dataframe thead th {\n",
       "        text-align: right;\n",
       "    }\n",
       "</style>\n",
       "<table border=\"1\" class=\"dataframe\">\n",
       "  <thead>\n",
       "    <tr style=\"text-align: right;\">\n",
       "      <th></th>\n",
       "      <th>Country Name</th>\n",
       "      <th>Country Code</th>\n",
       "      <th>Affordability of a healthy diet</th>\n",
       "      <th>Sex</th>\n",
       "      <th>Mean BMI</th>\n",
       "      <th>Mean BMI lower</th>\n",
       "      <th>Mean BMI upper</th>\n",
       "      <th>Prev of BMI&gt;=30  (obesity)</th>\n",
       "      <th>Prev of BMI&gt;=30  lower</th>\n",
       "      <th>Prev of BMI&gt;=30  upper</th>\n",
       "      <th>...</th>\n",
       "      <th>Prev of BMI 25  to &lt;30  upper</th>\n",
       "      <th>Prev of BMI 30  to &lt;35</th>\n",
       "      <th>Prev of BMI 30  to &lt;35  lower</th>\n",
       "      <th>Prev of BMI 30  to &lt;35  upper</th>\n",
       "      <th>Prev of BMI 35  to &lt;40</th>\n",
       "      <th>Prev of BMI 35  to &lt;40  lower</th>\n",
       "      <th>Prev of BMI 35  to &lt;40  upper</th>\n",
       "      <th>Prev of BMI &gt;=40 (morbid obesity)</th>\n",
       "      <th>Prev of BMI &gt;=40  lower</th>\n",
       "      <th>Prev of BMI &gt;=40  upper</th>\n",
       "    </tr>\n",
       "  </thead>\n",
       "  <tbody>\n",
       "    <tr>\n",
       "      <th>108</th>\n",
       "      <td>Ethiopia</td>\n",
       "      <td>ETH</td>\n",
       "      <td>2.188</td>\n",
       "      <td>Men</td>\n",
       "      <td>20.11044</td>\n",
       "      <td>19.095816</td>\n",
       "      <td>21.098157</td>\n",
       "      <td>0.019809</td>\n",
       "      <td>0.008283</td>\n",
       "      <td>0.038256</td>\n",
       "      <td>...</td>\n",
       "      <td>0.174245</td>\n",
       "      <td>0.017769</td>\n",
       "      <td>0.00642</td>\n",
       "      <td>0.036051</td>\n",
       "      <td>0.001434</td>\n",
       "      <td>0.000262</td>\n",
       "      <td>0.004244</td>\n",
       "      <td>0.000605</td>\n",
       "      <td>0.000063</td>\n",
       "      <td>0.002157</td>\n",
       "    </tr>\n",
       "  </tbody>\n",
       "</table>\n",
       "<p>1 rows × 34 columns</p>\n",
       "</div>"
      ],
      "text/plain": [
       "    Country Name Country Code  Affordability of a healthy diet  Sex  Mean BMI  \\\n",
       "108     Ethiopia          ETH                            2.188  Men  20.11044   \n",
       "\n",
       "     Mean BMI lower  Mean BMI upper  Prev of BMI>=30  (obesity)  \\\n",
       "108       19.095816       21.098157                    0.019809   \n",
       "\n",
       "     Prev of BMI>=30  lower  Prev of BMI>=30  upper  ...  \\\n",
       "108                0.008283                0.038256  ...   \n",
       "\n",
       "     Prev of BMI 25  to <30  upper  Prev of BMI 30  to <35   \\\n",
       "108                       0.174245                 0.017769   \n",
       "\n",
       "     Prev of BMI 30  to <35  lower  Prev of BMI 30  to <35  upper  \\\n",
       "108                        0.00642                       0.036051   \n",
       "\n",
       "     Prev of BMI 35  to <40   Prev of BMI 35  to <40  lower  \\\n",
       "108                 0.001434                       0.000262   \n",
       "\n",
       "     Prev of BMI 35  to <40  upper  Prev of BMI >=40 (morbid obesity)  \\\n",
       "108                       0.004244                           0.000605   \n",
       "\n",
       "     Prev of BMI >=40  lower  Prev of BMI >=40  upper  \n",
       "108                 0.000063                 0.002157  \n",
       "\n",
       "[1 rows x 34 columns]"
      ]
     },
     "execution_count": 66,
     "metadata": {},
     "output_type": "execute_result"
    }
   ],
   "source": [
    "df_merged[df_merged['Mean BMI'] == df_merged['Mean BMI'].min()]"
   ]
  },
  {
   "attachments": {},
   "cell_type": "markdown",
   "metadata": {},
   "source": [
    "Ethiopia has the lowest BMI in the world (using the available data). This makes sense because there is a lot undernourishment and hunger in that country."
   ]
  },
  {
   "cell_type": "code",
   "execution_count": 95,
   "metadata": {},
   "outputs": [
    {
     "ename": "TypeError",
     "evalue": "'Text' object is not callable",
     "output_type": "error",
     "traceback": [
      "\u001b[0;31m---------------------------------------------------------------------------\u001b[0m",
      "\u001b[0;31mTypeError\u001b[0m                                 Traceback (most recent call last)",
      "\u001b[1;32m/homes/jmaathuis/Documents/DSLS/Programming_1/Affordability_healthy_diet_and_BMI/final_assignment.ipynb Cell 33\u001b[0m in \u001b[0;36m<cell line: 4>\u001b[0;34m()\u001b[0m\n\u001b[1;32m      <a href='vscode-notebook-cell://ssh-remote%2Bassemblix/homes/jmaathuis/Documents/DSLS/Programming_1/Affordability_healthy_diet_and_BMI/final_assignment.ipynb#X43sdnNjb2RlLXJlbW90ZQ%3D%3D?line=0'>1</a>\u001b[0m sns\u001b[39m.\u001b[39mset(style\u001b[39m=\u001b[39m\u001b[39m\"\u001b[39m\u001b[39mdarkgrid\u001b[39m\u001b[39m\"\u001b[39m)\n\u001b[1;32m      <a href='vscode-notebook-cell://ssh-remote%2Bassemblix/homes/jmaathuis/Documents/DSLS/Programming_1/Affordability_healthy_diet_and_BMI/final_assignment.ipynb#X43sdnNjb2RlLXJlbW90ZQ%3D%3D?line=1'>2</a>\u001b[0m bmi_boxplot \u001b[39m=\u001b[39m sns\u001b[39m.\u001b[39mboxplot(x\u001b[39m=\u001b[39m\u001b[39m'\u001b[39m\u001b[39mMean BMI\u001b[39m\u001b[39m'\u001b[39m, y\u001b[39m=\u001b[39m\u001b[39m'\u001b[39m\u001b[39mSex\u001b[39m\u001b[39m'\u001b[39m, data\u001b[39m=\u001b[39mdf_merged,\n\u001b[1;32m      <a href='vscode-notebook-cell://ssh-remote%2Bassemblix/homes/jmaathuis/Documents/DSLS/Programming_1/Affordability_healthy_diet_and_BMI/final_assignment.ipynb#X43sdnNjb2RlLXJlbW90ZQ%3D%3D?line=2'>3</a>\u001b[0m                           palette\u001b[39m=\u001b[39m{\u001b[39m'\u001b[39m\u001b[39mMen\u001b[39m\u001b[39m'\u001b[39m: \u001b[39m'\u001b[39m\u001b[39mdodgerblue\u001b[39m\u001b[39m'\u001b[39m, \u001b[39m'\u001b[39m\u001b[39mWomen\u001b[39m\u001b[39m'\u001b[39m: \u001b[39m'\u001b[39m\u001b[39mviolet\u001b[39m\u001b[39m'\u001b[39m})\n\u001b[0;32m----> <a href='vscode-notebook-cell://ssh-remote%2Bassemblix/homes/jmaathuis/Documents/DSLS/Programming_1/Affordability_healthy_diet_and_BMI/final_assignment.ipynb#X43sdnNjb2RlLXJlbW90ZQ%3D%3D?line=3'>4</a>\u001b[0m bmi_boxplot\u001b[39m.\u001b[39;49mtitle(\u001b[39m'\u001b[39;49m\u001b[39mBoxplot of mean BMI per sex\u001b[39;49m\u001b[39m'\u001b[39;49m)\n\u001b[1;32m      <a href='vscode-notebook-cell://ssh-remote%2Bassemblix/homes/jmaathuis/Documents/DSLS/Programming_1/Affordability_healthy_diet_and_BMI/final_assignment.ipynb#X43sdnNjb2RlLXJlbW90ZQ%3D%3D?line=4'>5</a>\u001b[0m plt\u001b[39m.\u001b[39mshow(bmi_boxplot)\n",
      "\u001b[0;31mTypeError\u001b[0m: 'Text' object is not callable"
     ]
    },
    {
     "data": {
      "image/png": "[encoded data removed]",
      "text/plain": [
       "<Figure size 640x480 with 1 Axes>"
      ]
     },
     "metadata": {},
     "output_type": "display_data"
    }
   ],
   "source": [
    "sns.set(style=\"darkgrid\")\n",
    "bmi_boxplot = sns.boxplot(x='Mean BMI', y='Sex', data=df_merged,\n",
    "                          palette={'Men': 'dodgerblue', 'Women': 'violet'})\n",
    "bmi_boxplot.title('Boxplot of mean BMI per sex')\n",
    "plt.show(bmi_boxplot)"
   ]
  },
  {
   "cell_type": "code",
   "execution_count": 79,
   "metadata": {},
   "outputs": [
    {
     "data": {
      "image/png": "[encoded data removed]",
      "text/plain": [
       "<Figure size 640x480 with 1 Axes>"
      ]
     },
     "metadata": {},
     "output_type": "display_data"
    }
   ],
   "source": [
    "plt.hist(df_merged['Mean BMI'], bins='auto')\n",
    "plt.show()"
   ]
  },
  {
   "attachments": {},
   "cell_type": "markdown",
   "metadata": {},
   "source": [
    "### Affordability of a healthy diet"
   ]
  }
 ],
 "metadata": {
  "kernelspec": {
   "display_name": "Python 3",
   "language": "python",
   "name": "python3"
  },
  "language_info": {
   "codemirror_mode": {
    "name": "ipython",
    "version": 3
   },
   "file_extension": ".py",
   "mimetype": "text/x-python",
   "name": "python",
   "nbconvert_exporter": "python",
   "pygments_lexer": "ipython3",
   "version": "3.10.8"
  },
  "orig_nbformat": 4,
  "vscode": {
   "interpreter": {
    "hash": "6b91fa5cffef32cb10787a50fea9666676a7951181e01280b4644cd70c964bf4"
   }
  }
 },
 "nbformat": 4,
 "nbformat_minor": 2
}
